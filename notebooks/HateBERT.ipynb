{
 "cells": [
  {
   "cell_type": "code",
   "execution_count": 1,
   "id": "56eab62d",
   "metadata": {
    "execution": {
     "iopub.execute_input": "2024-01-07T12:15:37.546891Z",
     "iopub.status.busy": "2024-01-07T12:15:37.546488Z",
     "iopub.status.idle": "2024-01-07T12:15:39.407488Z",
     "shell.execute_reply": "2024-01-07T12:15:39.406602Z"
    },
    "id": "iKrMbLMAZqN5",
    "outputId": "16677308-ca38-4c77-da9a-e994735702f1",
    "papermill": {
     "duration": 1.874577,
     "end_time": "2024-01-07T12:15:39.409773",
     "exception": false,
     "start_time": "2024-01-07T12:15:37.535196",
     "status": "completed"
    },
    "tags": []
   },
   "outputs": [
    {
     "name": "stdout",
     "output_type": "stream",
     "text": [
      "cp: cannot stat 'kaggle.json': No such file or directory\r\n"
     ]
    }
   ],
   "source": [
    "!mkdir ~/.kaggle\n",
    "\n",
    "! cp kaggle.json ~/.kaggle/"
   ]
  },
  {
   "cell_type": "code",
   "execution_count": 2,
   "id": "3105141e",
   "metadata": {
    "execution": {
     "iopub.execute_input": "2024-01-07T12:15:39.429746Z",
     "iopub.status.busy": "2024-01-07T12:15:39.429421Z",
     "iopub.status.idle": "2024-01-07T12:15:40.675125Z",
     "shell.execute_reply": "2024-01-07T12:15:40.674033Z"
    },
    "id": "CJ138zhHZy3i",
    "outputId": "1e3fc340-54e7-4285-bf86-b014a37e18c2",
    "papermill": {
     "duration": 1.258556,
     "end_time": "2024-01-07T12:15:40.677801",
     "exception": false,
     "start_time": "2024-01-07T12:15:39.419245",
     "status": "completed"
    },
    "tags": []
   },
   "outputs": [
    {
     "name": "stdout",
     "output_type": "stream",
     "text": [
      "Traceback (most recent call last):\r\n",
      "  File \"/opt/conda/bin/kaggle\", line 5, in <module>\r\n",
      "    from kaggle.cli import main\r\n",
      "  File \"/opt/conda/lib/python3.10/site-packages/kaggle/__init__.py\", line 23, in <module>\r\n",
      "    api.authenticate()\r\n",
      "  File \"/opt/conda/lib/python3.10/site-packages/kaggle/api/kaggle_api_extended.py\", line 403, in authenticate\r\n",
      "    raise IOError('Could not find {}. Make sure it\\'s located in'\r\n",
      "OSError: Could not find kaggle.json. Make sure it's located in /root/.kaggle. Or use the environment method.\r\n"
     ]
    }
   ],
   "source": [
    "!kaggle competitions download -c jigsaw-toxic-comment-classification-challenge"
   ]
  },
  {
   "cell_type": "code",
   "execution_count": 3,
   "id": "2783b407",
   "metadata": {
    "execution": {
     "iopub.execute_input": "2024-01-07T12:15:40.697898Z",
     "iopub.status.busy": "2024-01-07T12:15:40.697574Z",
     "iopub.status.idle": "2024-01-07T12:15:41.651479Z",
     "shell.execute_reply": "2024-01-07T12:15:41.650563Z"
    },
    "id": "vVow0PaMZzUx",
    "outputId": "2154dd1b-da84-4169-e1e0-c0901a750f2c",
    "papermill": {
     "duration": 0.966641,
     "end_time": "2024-01-07T12:15:41.653911",
     "exception": false,
     "start_time": "2024-01-07T12:15:40.687270",
     "status": "completed"
    },
    "tags": []
   },
   "outputs": [
    {
     "name": "stdout",
     "output_type": "stream",
     "text": [
      "unzip:  cannot find or open /content/jigsaw-toxic-comment-classification-challenge.zip, /content/jigsaw-toxic-comment-classification-challenge.zip.zip or /content/jigsaw-toxic-comment-classification-challenge.zip.ZIP.\r\n"
     ]
    }
   ],
   "source": [
    "!unzip /content/jigsaw-toxic-comment-classification-challenge.zip -d /content/data\n"
   ]
  },
  {
   "cell_type": "code",
   "execution_count": 4,
   "id": "0a54aeaf",
   "metadata": {
    "execution": {
     "iopub.execute_input": "2024-01-07T12:15:41.674127Z",
     "iopub.status.busy": "2024-01-07T12:15:41.673821Z",
     "iopub.status.idle": "2024-01-07T12:15:42.599758Z",
     "shell.execute_reply": "2024-01-07T12:15:42.598783Z"
    },
    "id": "slauq8Q_atNj",
    "outputId": "3735f1b0-a1f7-46c0-e1b9-20ef7a36f581",
    "papermill": {
     "duration": 0.938683,
     "end_time": "2024-01-07T12:15:42.602085",
     "exception": false,
     "start_time": "2024-01-07T12:15:41.663402",
     "status": "completed"
    },
    "tags": []
   },
   "outputs": [
    {
     "name": "stdout",
     "output_type": "stream",
     "text": [
      "unzip:  cannot find or open /content/data/train.csv.zip, /content/data/train.csv.zip.zip or /content/data/train.csv.zip.ZIP.\r\n"
     ]
    }
   ],
   "source": [
    "!unzip /content/data/train.csv.zip   -d /content/data"
   ]
  },
  {
   "cell_type": "code",
   "execution_count": 5,
   "id": "535498bb",
   "metadata": {
    "execution": {
     "iopub.execute_input": "2024-01-07T12:15:42.623786Z",
     "iopub.status.busy": "2024-01-07T12:15:42.622904Z",
     "iopub.status.idle": "2024-01-07T12:15:44.353877Z",
     "shell.execute_reply": "2024-01-07T12:15:44.352955Z"
    },
    "papermill": {
     "duration": 1.744196,
     "end_time": "2024-01-07T12:15:44.356218",
     "exception": false,
     "start_time": "2024-01-07T12:15:42.612022",
     "status": "completed"
    },
    "tags": []
   },
   "outputs": [
    {
     "name": "stdout",
     "output_type": "stream",
     "text": [
      "Archive:  /kaggle/input/jigsaw-toxic-comment-classification-challenge/train.csv.zip\r\n",
      "  inflating: train.csv               \r\n"
     ]
    }
   ],
   "source": [
    "!unzip /kaggle/input/jigsaw-toxic-comment-classification-challenge/train.csv.zip"
   ]
  },
  {
   "cell_type": "code",
   "execution_count": 6,
   "id": "5545692a",
   "metadata": {
    "execution": {
     "iopub.execute_input": "2024-01-07T12:15:44.377018Z",
     "iopub.status.busy": "2024-01-07T12:15:44.376718Z",
     "iopub.status.idle": "2024-01-07T12:15:46.908198Z",
     "shell.execute_reply": "2024-01-07T12:15:46.907163Z"
    },
    "id": "7O1_Q0utcTVo",
    "outputId": "943fdef5-6a70-40b1-f6b3-a7025a8cc507",
    "papermill": {
     "duration": 2.544257,
     "end_time": "2024-01-07T12:15:46.910409",
     "exception": false,
     "start_time": "2024-01-07T12:15:44.366152",
     "status": "completed"
    },
    "tags": []
   },
   "outputs": [
    {
     "name": "stdout",
     "output_type": "stream",
     "text": [
      "CSV Header: ['id', 'comment_text', 'toxic', 'severe_toxic', 'obscene', 'threat', 'insult', 'identity_hate']\n",
      "Number of rows: 159571\n",
      "Number of columns: 8\n",
      "Column names: ['id', 'comment_text', 'toxic', 'severe_toxic', 'obscene', 'threat', 'insult', 'identity_hate']\n",
      "Data types of columns:\n",
      "id               object\n",
      "comment_text     object\n",
      "toxic             int64\n",
      "severe_toxic      int64\n",
      "obscene           int64\n",
      "threat            int64\n",
      "insult            int64\n",
      "identity_hate     int64\n",
      "dtype: object\n",
      "Summary statistics:\n",
      "               toxic   severe_toxic        obscene         threat  \\\n",
      "count  159571.000000  159571.000000  159571.000000  159571.000000   \n",
      "mean        0.095844       0.009996       0.052948       0.002996   \n",
      "std         0.294379       0.099477       0.223931       0.054650   \n",
      "min         0.000000       0.000000       0.000000       0.000000   \n",
      "25%         0.000000       0.000000       0.000000       0.000000   \n",
      "50%         0.000000       0.000000       0.000000       0.000000   \n",
      "75%         0.000000       0.000000       0.000000       0.000000   \n",
      "max         1.000000       1.000000       1.000000       1.000000   \n",
      "\n",
      "              insult  identity_hate  \n",
      "count  159571.000000  159571.000000  \n",
      "mean        0.049364       0.008805  \n",
      "std         0.216627       0.093420  \n",
      "min         0.000000       0.000000  \n",
      "25%         0.000000       0.000000  \n",
      "50%         0.000000       0.000000  \n",
      "75%         0.000000       0.000000  \n",
      "max         1.000000       1.000000  \n"
     ]
    }
   ],
   "source": [
    "import csv\n",
    "import pandas as pd\n",
    "\n",
    "# Step 1: Read CSV file using the csv module\n",
    "csv_file_path = \"/kaggle/working/train.csv\"\n",
    "\n",
    "# Open the file using the csv module\n",
    "with open(csv_file_path, 'r') as file:\n",
    "    # Create a CSV reader\n",
    "    csv_reader = csv.reader(file)\n",
    "\n",
    "    # Read the header to get column names\n",
    "    header = next(csv_reader)\n",
    "\n",
    "    # Read the data\n",
    "    data = [row for row in csv_reader]\n",
    "\n",
    "# Step 2: Use pandas to create a DataFrame for analysis\n",
    "df = pd.read_csv(csv_file_path)\n",
    "\n",
    "# Display important details\n",
    "print(\"CSV Header:\", header)\n",
    "print(\"Number of rows:\", len(data))\n",
    "print(\"Number of columns:\", len(header))\n",
    "print(\"Column names:\", header)\n",
    "print(\"Data types of columns:\")\n",
    "print(df.dtypes)\n",
    "print(\"Summary statistics:\")\n",
    "print(df.describe())\n"
   ]
  },
  {
   "cell_type": "code",
   "execution_count": 7,
   "id": "c2186ff0",
   "metadata": {
    "execution": {
     "iopub.execute_input": "2024-01-07T12:15:46.931062Z",
     "iopub.status.busy": "2024-01-07T12:15:46.930753Z",
     "iopub.status.idle": "2024-01-07T12:15:47.887169Z",
     "shell.execute_reply": "2024-01-07T12:15:47.886160Z"
    },
    "id": "ZtQqemxacWn_",
    "outputId": "2fba6d40-93e4-4c5e-9555-34ddc779cbc2",
    "papermill": {
     "duration": 0.969371,
     "end_time": "2024-01-07T12:15:47.889639",
     "exception": false,
     "start_time": "2024-01-07T12:15:46.920268",
     "status": "completed"
    },
    "tags": []
   },
   "outputs": [],
   "source": [
    "import pandas as pd\n",
    "\n",
    "\n",
    "df = pd.read_csv(csv_file_path)"
   ]
  },
  {
   "cell_type": "code",
   "execution_count": 8,
   "id": "79ea31c5",
   "metadata": {
    "execution": {
     "iopub.execute_input": "2024-01-07T12:15:47.911694Z",
     "iopub.status.busy": "2024-01-07T12:15:47.911348Z",
     "iopub.status.idle": "2024-01-07T12:15:47.960267Z",
     "shell.execute_reply": "2024-01-07T12:15:47.958944Z"
    },
    "papermill": {
     "duration": 0.062032,
     "end_time": "2024-01-07T12:15:47.962356",
     "exception": false,
     "start_time": "2024-01-07T12:15:47.900324",
     "status": "completed"
    },
    "tags": []
   },
   "outputs": [
    {
     "name": "stdout",
     "output_type": "stream",
     "text": [
      "                      id                                       comment_text  \\\n",
      "0       0000997932d777bf  Explanation\\nWhy the edits made under my usern...   \n",
      "1       000103f0d9cfb60f  D'aww! He matches this background colour I'm s...   \n",
      "2       000113f07ec002fd  Hey man, I'm really not trying to edit war. It...   \n",
      "3       0001b41b1c6bb37e  \"\\nMore\\nI can't make any real suggestions on ...   \n",
      "4       0001d958c54c6e35  You, sir, are my hero. Any chance you remember...   \n",
      "...                  ...                                                ...   \n",
      "159566  ffe987279560d7ff  \":::::And for the second time of asking, when ...   \n",
      "159567  ffea4adeee384e90  You should be ashamed of yourself \\n\\nThat is ...   \n",
      "159568  ffee36eab5c267c9  Spitzer \\n\\nUmm, theres no actual article for ...   \n",
      "159569  fff125370e4aaaf3  And it looks like it was actually you who put ...   \n",
      "159570  fff46fc426af1f9a  \"\\nAnd ... I really don't think you understand...   \n",
      "\n",
      "        toxic  severe_toxic  obscene  threat  insult  identity_hate  normal  \n",
      "0           0             0        0       0       0              0       1  \n",
      "1           0             0        0       0       0              0       1  \n",
      "2           0             0        0       0       0              0       1  \n",
      "3           0             0        0       0       0              0       1  \n",
      "4           0             0        0       0       0              0       1  \n",
      "...       ...           ...      ...     ...     ...            ...     ...  \n",
      "159566      0             0        0       0       0              0       1  \n",
      "159567      0             0        0       0       0              0       1  \n",
      "159568      0             0        0       0       0              0       1  \n",
      "159569      0             0        0       0       0              0       1  \n",
      "159570      0             0        0       0       0              0       1  \n",
      "\n",
      "[159571 rows x 9 columns]\n"
     ]
    }
   ],
   "source": [
    "# Assuming your toxicity columns are 'toxic', 'severe_toxic', 'obscene', 'threat', 'insult', 'identity_hate'\n",
    "toxicity_columns = ['toxic', 'severe_toxic', 'obscene', 'threat', 'insult', 'identity_hate']\n",
    "\n",
    "# Add the 'normal' column\n",
    "df['normal'] = (df[toxicity_columns].sum(axis=1) == 0).astype(int)\n",
    "\n",
    "# Print the updated DataFrame\n",
    "print(df)"
   ]
  },
  {
   "cell_type": "code",
   "execution_count": 9,
   "id": "42eecbd8",
   "metadata": {
    "execution": {
     "iopub.execute_input": "2024-01-07T12:15:47.983321Z",
     "iopub.status.busy": "2024-01-07T12:15:47.983029Z",
     "iopub.status.idle": "2024-01-07T12:15:47.997323Z",
     "shell.execute_reply": "2024-01-07T12:15:47.996279Z"
    },
    "papermill": {
     "duration": 0.026993,
     "end_time": "2024-01-07T12:15:47.999279",
     "exception": false,
     "start_time": "2024-01-07T12:15:47.972286",
     "status": "completed"
    },
    "tags": []
   },
   "outputs": [
    {
     "name": "stdout",
     "output_type": "stream",
     "text": [
      "Unique values for column toxic:\n",
      "[0 1]\n",
      "\n",
      "Unique values for column severe_toxic:\n",
      "[0 1]\n",
      "\n",
      "Unique values for column obscene:\n",
      "[0 1]\n",
      "\n",
      "Unique values for column threat:\n",
      "[0 1]\n",
      "\n",
      "Unique values for column insult:\n",
      "[0 1]\n",
      "\n",
      "Unique values for column identity_hate:\n",
      "[0 1]\n",
      "\n",
      "Unique values for column normal:\n",
      "[1 0]\n",
      "\n"
     ]
    }
   ],
   "source": [
    "# Step 2: Print unique values for columns 3 to 8\n",
    "for column in df.columns[2:9]:  # Assuming columns are 0-indexed\n",
    "    unique_values = df[column].unique()\n",
    "    print(f\"Unique values for column {column}:\")\n",
    "    print(unique_values)\n",
    "    print()\n"
   ]
  },
  {
   "cell_type": "code",
   "execution_count": 10,
   "id": "e2644733",
   "metadata": {
    "execution": {
     "iopub.execute_input": "2024-01-07T12:15:48.021381Z",
     "iopub.status.busy": "2024-01-07T12:15:48.021145Z",
     "iopub.status.idle": "2024-01-07T12:15:48.030285Z",
     "shell.execute_reply": "2024-01-07T12:15:48.029262Z"
    },
    "papermill": {
     "duration": 0.021665,
     "end_time": "2024-01-07T12:15:48.032181",
     "exception": false,
     "start_time": "2024-01-07T12:15:48.010516",
     "status": "completed"
    },
    "tags": []
   },
   "outputs": [
    {
     "name": "stdout",
     "output_type": "stream",
     "text": [
      "Number of instances of 1 in each column:\n",
      "toxic             15294\n",
      "severe_toxic       1595\n",
      "obscene            8449\n",
      "threat              478\n",
      "insult             7877\n",
      "identity_hate      1405\n",
      "normal           143346\n",
      "dtype: int64\n"
     ]
    }
   ],
   "source": [
    "import pandas as pd\n",
    "\n",
    "# ... (your existing code)\n",
    "\n",
    "# Assuming your DataFrame has a 'normal' column\n",
    "# If not, you can add the 'normal' column as mentioned in the previous response\n",
    "\n",
    "# Check the number of instances of 1 in each column\n",
    "instances_of_1 = df.drop(columns=[\"id\",'comment_text']).sum()\n",
    "\n",
    "# Print the result\n",
    "print(\"Number of instances of 1 in each column:\")\n",
    "print(instances_of_1)\n"
   ]
  },
  {
   "cell_type": "code",
   "execution_count": 11,
   "id": "dcdd9be8",
   "metadata": {
    "execution": {
     "iopub.execute_input": "2024-01-07T12:15:48.053562Z",
     "iopub.status.busy": "2024-01-07T12:15:48.053302Z",
     "iopub.status.idle": "2024-01-07T12:15:48.311129Z",
     "shell.execute_reply": "2024-01-07T12:15:48.309843Z"
    },
    "id": "Elkwfk42cdhu",
    "outputId": "feb849e5-5a6f-436e-b8bb-36658498ce12",
    "papermill": {
     "duration": 0.270737,
     "end_time": "2024-01-07T12:15:48.313292",
     "exception": false,
     "start_time": "2024-01-07T12:15:48.042555",
     "status": "completed"
    },
    "tags": []
   },
   "outputs": [
    {
     "name": "stdout",
     "output_type": "stream",
     "text": [
      "                      id                                       comment_text  \\\n",
      "0       0000997932d777bf  explanation\\nwhy the edits made under my usern...   \n",
      "1       000103f0d9cfb60f  d'aww! he matches this background colour i'm s...   \n",
      "2       000113f07ec002fd  hey man, i'm really not trying to edit war. it...   \n",
      "3       0001b41b1c6bb37e  \"\\nmore\\ni can't make any real suggestions on ...   \n",
      "4       0001d958c54c6e35  you, sir, are my hero. any chance you remember...   \n",
      "...                  ...                                                ...   \n",
      "159566  ffe987279560d7ff  \":::::and for the second time of asking, when ...   \n",
      "159567  ffea4adeee384e90  you should be ashamed of yourself \\n\\nthat is ...   \n",
      "159568  ffee36eab5c267c9  spitzer \\n\\numm, theres no actual article for ...   \n",
      "159569  fff125370e4aaaf3  and it looks like it was actually you who put ...   \n",
      "159570  fff46fc426af1f9a  \"\\nand ... i really don't think you understand...   \n",
      "\n",
      "        toxic  severe_toxic  obscene  threat  insult  identity_hate  normal  \n",
      "0           0             0        0       0       0              0       1  \n",
      "1           0             0        0       0       0              0       1  \n",
      "2           0             0        0       0       0              0       1  \n",
      "3           0             0        0       0       0              0       1  \n",
      "4           0             0        0       0       0              0       1  \n",
      "...       ...           ...      ...     ...     ...            ...     ...  \n",
      "159566      0             0        0       0       0              0       1  \n",
      "159567      0             0        0       0       0              0       1  \n",
      "159568      0             0        0       0       0              0       1  \n",
      "159569      0             0        0       0       0              0       1  \n",
      "159570      0             0        0       0       0              0       1  \n",
      "\n",
      "[159571 rows x 9 columns]\n"
     ]
    }
   ],
   "source": [
    "# Step 2: Make all words in a specific column lowercase\n",
    "column_to_lower = 'comment_text'  # Replace with the actual column name\n",
    "df[column_to_lower] = df[column_to_lower].str.lower()\n",
    "\n",
    "# Print the DataFrame with the lowercase column\n",
    "print(df)"
   ]
  },
  {
   "cell_type": "code",
   "execution_count": 12,
   "id": "29f67859",
   "metadata": {
    "execution": {
     "iopub.execute_input": "2024-01-07T12:15:48.335054Z",
     "iopub.status.busy": "2024-01-07T12:15:48.334735Z",
     "iopub.status.idle": "2024-01-07T12:15:55.648729Z",
     "shell.execute_reply": "2024-01-07T12:15:55.647575Z"
    },
    "id": "-yfdGSxecgFM",
    "outputId": "7cd04a5d-868a-4b2b-e5ca-a0a405bdf975",
    "papermill": {
     "duration": 7.327552,
     "end_time": "2024-01-07T12:15:55.651165",
     "exception": false,
     "start_time": "2024-01-07T12:15:48.323613",
     "status": "completed"
    },
    "tags": []
   },
   "outputs": [
    {
     "data": {
      "application/vnd.jupyter.widget-view+json": {
       "model_id": "9e6abff44f4149afad592d7ea409647e",
       "version_major": 2,
       "version_minor": 0
      },
      "text/plain": [
       "tokenizer_config.json:   0%|          | 0.00/151 [00:00<?, ?B/s]"
      ]
     },
     "metadata": {},
     "output_type": "display_data"
    },
    {
     "data": {
      "application/vnd.jupyter.widget-view+json": {
       "model_id": "9646dcb44c88471d81010f9679e1bc43",
       "version_major": 2,
       "version_minor": 0
      },
      "text/plain": [
       "config.json:   0%|          | 0.00/1.24k [00:00<?, ?B/s]"
      ]
     },
     "metadata": {},
     "output_type": "display_data"
    },
    {
     "data": {
      "application/vnd.jupyter.widget-view+json": {
       "model_id": "a8546747590f40d89b1e3f6ac1b3d538",
       "version_major": 2,
       "version_minor": 0
      },
      "text/plain": [
       "vocab.txt:   0%|          | 0.00/232k [00:00<?, ?B/s]"
      ]
     },
     "metadata": {},
     "output_type": "display_data"
    },
    {
     "data": {
      "application/vnd.jupyter.widget-view+json": {
       "model_id": "775451dce0054a889d72ec38d60a9ab8",
       "version_major": 2,
       "version_minor": 0
      },
      "text/plain": [
       "special_tokens_map.json:   0%|          | 0.00/112 [00:00<?, ?B/s]"
      ]
     },
     "metadata": {},
     "output_type": "display_data"
    }
   ],
   "source": [
    "# Load model directly\n",
    "# from transformers import AutoTokenizer, AutoModelForMaskedLM\n",
    "from transformers import AutoTokenizer, AutoModelForSequenceClassification, AdamW\n",
    "\n",
    "tokenizer = AutoTokenizer.from_pretrained(\"GroNLP/hateBERT\")\n"
   ]
  },
  {
   "cell_type": "code",
   "execution_count": 13,
   "id": "0924de95",
   "metadata": {
    "execution": {
     "iopub.execute_input": "2024-01-07T12:15:55.674684Z",
     "iopub.status.busy": "2024-01-07T12:15:55.674197Z",
     "iopub.status.idle": "2024-01-07T12:17:06.761380Z",
     "shell.execute_reply": "2024-01-07T12:17:06.760532Z"
    },
    "id": "ionp_FAwuYrC",
    "papermill": {
     "duration": 71.101748,
     "end_time": "2024-01-07T12:17:06.763945",
     "exception": false,
     "start_time": "2024-01-07T12:15:55.662197",
     "status": "completed"
    },
    "tags": []
   },
   "outputs": [],
   "source": [
    "from transformers import BertForSequenceClassification, AdamW\n",
    "from torch.nn import BCEWithLogitsLoss\n",
    "from torch.optim import Adam\n",
    "import torch\n",
    "\n",
    "from torch.utils.data import DataLoader, TensorDataset\n",
    "\n",
    "\n",
    "def tokenize_and_pad(text, max_len=128):\n",
    "    tokens = tokenizer.encode(text, max_length=max_len, truncation=True, padding='max_length')\n",
    "    return tokens\n",
    "\n",
    "# Example usage:\n",
    "comments = df['comment_text'].tolist()\n",
    "tokenized_comments = [tokenize_and_pad(comment) for comment in comments]\n",
    "\n",
    "input_ids = torch.tensor(tokenized_comments)\n",
    "attention_masks = (input_ids != 0).long()\n",
    "labels = torch.tensor(df[['toxic', 'severe_toxic', 'obscene', 'threat', 'insult', 'identity_hate', 'normal']].values)\n",
    "\n",
    "dataset = TensorDataset(input_ids, attention_masks, labels)\n"
   ]
  },
  {
   "cell_type": "code",
   "execution_count": 14,
   "id": "47d4ae5b",
   "metadata": {
    "execution": {
     "iopub.execute_input": "2024-01-07T12:17:06.787897Z",
     "iopub.status.busy": "2024-01-07T12:17:06.787050Z",
     "iopub.status.idle": "2024-01-07T12:17:10.480671Z",
     "shell.execute_reply": "2024-01-07T12:17:10.479829Z"
    },
    "id": "MJlLWGmOuYiL",
    "papermill": {
     "duration": 3.707756,
     "end_time": "2024-01-07T12:17:10.483068",
     "exception": false,
     "start_time": "2024-01-07T12:17:06.775312",
     "status": "completed"
    },
    "tags": []
   },
   "outputs": [
    {
     "name": "stderr",
     "output_type": "stream",
     "text": [
      "/opt/conda/lib/python3.10/site-packages/scipy/__init__.py:146: UserWarning: A NumPy version >=1.16.5 and <1.23.0 is required for this version of SciPy (detected version 1.24.3\n",
      "  warnings.warn(f\"A NumPy version >={np_minversion} and <{np_maxversion}\"\n"
     ]
    }
   ],
   "source": [
    "from sklearn.model_selection import train_test_split\n",
    "\n",
    "train_dataset, val_dataset = train_test_split(dataset, test_size=0.2, random_state=42)\n"
   ]
  },
  {
   "cell_type": "code",
   "execution_count": 15,
   "id": "99b990f8",
   "metadata": {
    "execution": {
     "iopub.execute_input": "2024-01-07T12:17:10.506497Z",
     "iopub.status.busy": "2024-01-07T12:17:10.506193Z",
     "iopub.status.idle": "2024-01-07T12:17:56.319098Z",
     "shell.execute_reply": "2024-01-07T12:17:56.318002Z"
    },
    "id": "Azi5DT624Htx",
    "outputId": "518c624a-e0d9-4e1e-f2aa-d403b54fac56",
    "papermill": {
     "duration": 45.826833,
     "end_time": "2024-01-07T12:17:56.321162",
     "exception": false,
     "start_time": "2024-01-07T12:17:10.494329",
     "status": "completed"
    },
    "tags": []
   },
   "outputs": [
    {
     "data": {
      "application/vnd.jupyter.widget-view+json": {
       "model_id": "88f0d5203f6e458382eb8fb6f2e9b947",
       "version_major": 2,
       "version_minor": 0
      },
      "text/plain": [
       "model.safetensors:   0%|          | 0.00/440M [00:00<?, ?B/s]"
      ]
     },
     "metadata": {},
     "output_type": "display_data"
    },
    {
     "name": "stderr",
     "output_type": "stream",
     "text": [
      "Some weights of BertForSequenceClassification were not initialized from the model checkpoint at GroNLP/hateBERT and are newly initialized: ['classifier.bias', 'classifier.weight']\n",
      "You should probably TRAIN this model on a down-stream task to be able to use it for predictions and inference.\n",
      "/opt/conda/lib/python3.10/site-packages/transformers/optimization.py:429: FutureWarning: This implementation of AdamW is deprecated and will be removed in a future version. Use the PyTorch implementation torch.optim.AdamW instead, or set `no_deprecation_warning=True` to disable this warning\n",
      "  warnings.warn(\n"
     ]
    },
    {
     "data": {
      "text/plain": [
       "BertForSequenceClassification(\n",
       "  (bert): BertModel(\n",
       "    (embeddings): BertEmbeddings(\n",
       "      (word_embeddings): Embedding(30522, 768, padding_idx=0)\n",
       "      (position_embeddings): Embedding(512, 768)\n",
       "      (token_type_embeddings): Embedding(2, 768)\n",
       "      (LayerNorm): LayerNorm((768,), eps=1e-12, elementwise_affine=True)\n",
       "      (dropout): Dropout(p=0.1, inplace=False)\n",
       "    )\n",
       "    (encoder): BertEncoder(\n",
       "      (layer): ModuleList(\n",
       "        (0-11): 12 x BertLayer(\n",
       "          (attention): BertAttention(\n",
       "            (self): BertSelfAttention(\n",
       "              (query): Linear(in_features=768, out_features=768, bias=True)\n",
       "              (key): Linear(in_features=768, out_features=768, bias=True)\n",
       "              (value): Linear(in_features=768, out_features=768, bias=True)\n",
       "              (dropout): Dropout(p=0.1, inplace=False)\n",
       "            )\n",
       "            (output): BertSelfOutput(\n",
       "              (dense): Linear(in_features=768, out_features=768, bias=True)\n",
       "              (LayerNorm): LayerNorm((768,), eps=1e-12, elementwise_affine=True)\n",
       "              (dropout): Dropout(p=0.1, inplace=False)\n",
       "            )\n",
       "          )\n",
       "          (intermediate): BertIntermediate(\n",
       "            (dense): Linear(in_features=768, out_features=3072, bias=True)\n",
       "            (intermediate_act_fn): GELUActivation()\n",
       "          )\n",
       "          (output): BertOutput(\n",
       "            (dense): Linear(in_features=3072, out_features=768, bias=True)\n",
       "            (LayerNorm): LayerNorm((768,), eps=1e-12, elementwise_affine=True)\n",
       "            (dropout): Dropout(p=0.1, inplace=False)\n",
       "          )\n",
       "        )\n",
       "      )\n",
       "    )\n",
       "    (pooler): BertPooler(\n",
       "      (dense): Linear(in_features=768, out_features=768, bias=True)\n",
       "      (activation): Tanh()\n",
       "    )\n",
       "  )\n",
       "  (dropout): Dropout(p=0.1, inplace=False)\n",
       "  (classifier): Linear(in_features=768, out_features=7, bias=True)\n",
       ")"
      ]
     },
     "execution_count": 15,
     "metadata": {},
     "output_type": "execute_result"
    }
   ],
   "source": [
    "\n",
    "model = AutoModelForSequenceClassification.from_pretrained(\"GroNLP/hateBERT\" ,  num_labels = 7)\n",
    "optimizer = AdamW(model.parameters(), lr=2e-5)\n",
    "\n",
    "device = torch.device(\"cuda\")\n",
    "\n",
    "# Calculate class weights\n",
    "class_weights = torch.tensor([len(train_dataset) / (7 * 15294),  # toxic\n",
    "                              len(train_dataset) / (7 * 1595),   # severe_toxic\n",
    "                              len(train_dataset) / (7 * 8449),   # obscene\n",
    "                              len(train_dataset) / (7 * 478),    # threat\n",
    "                              len(train_dataset) / (7 * 7877),   # insult\n",
    "                              len(train_dataset) / (7 * 1405),   # identity_hate\n",
    "                              len(train_dataset) / (7 * 143346)  # normal\n",
    "                             ]).to(device)\n",
    "\n",
    "# Use weighted BCEWithLogitsLoss\n",
    "criterion = BCEWithLogitsLoss(weight=class_weights)\n",
    "\n",
    "\n",
    "model.to(device)\n"
   ]
  },
  {
   "cell_type": "code",
   "execution_count": 16,
   "id": "dfb2a784",
   "metadata": {
    "execution": {
     "iopub.execute_input": "2024-01-07T12:17:56.345207Z",
     "iopub.status.busy": "2024-01-07T12:17:56.344912Z",
     "iopub.status.idle": "2024-01-07T12:17:56.349758Z",
     "shell.execute_reply": "2024-01-07T12:17:56.348915Z"
    },
    "id": "TdYkF8p0uYZF",
    "papermill": {
     "duration": 0.018988,
     "end_time": "2024-01-07T12:17:56.351582",
     "exception": false,
     "start_time": "2024-01-07T12:17:56.332594",
     "status": "completed"
    },
    "tags": []
   },
   "outputs": [],
   "source": [
    "batch_size = 128\n",
    "train_dataloader = DataLoader(train_dataset, batch_size=batch_size, shuffle=True, drop_last = True, pin_memory=True)\n",
    "val_dataloader = DataLoader(val_dataset, batch_size=batch_size, shuffle=False, drop_last = True, pin_memory=True)\n"
   ]
  },
  {
   "cell_type": "code",
   "execution_count": 17,
   "id": "f4bdf583",
   "metadata": {
    "execution": {
     "iopub.execute_input": "2024-01-07T12:17:56.375196Z",
     "iopub.status.busy": "2024-01-07T12:17:56.374924Z",
     "iopub.status.idle": "2024-01-07T13:31:52.798478Z",
     "shell.execute_reply": "2024-01-07T13:31:52.797556Z"
    },
    "id": "8H9IAri_uYP9",
    "outputId": "58060df4-f247-4b7b-bb64-f380985efb8b",
    "papermill": {
     "duration": 4436.439344,
     "end_time": "2024-01-07T13:31:52.802148",
     "exception": false,
     "start_time": "2024-01-07T12:17:56.362804",
     "status": "completed"
    },
    "tags": []
   },
   "outputs": [
    {
     "name": "stderr",
     "output_type": "stream",
     "text": [
      "Epoch 1/3: 100%|██████████| 997/997 [22:41<00:00,  1.37s/it, loss=0.0411]\n",
      "Validation: 100%|██████████| 249/249 [01:56<00:00,  2.14it/s, val_loss=0.107]\n"
     ]
    },
    {
     "name": "stdout",
     "output_type": "stream",
     "text": [
      "Epoch 1/3, Validation Loss: 0.10679589702661736, Accuracy: 0.9641378012048193\n"
     ]
    },
    {
     "name": "stderr",
     "output_type": "stream",
     "text": [
      "Epoch 2/3: 100%|██████████| 997/997 [22:42<00:00,  1.37s/it, loss=0.104]\n",
      "Validation: 100%|██████████| 249/249 [01:56<00:00,  2.14it/s, val_loss=0.101]\n"
     ]
    },
    {
     "name": "stdout",
     "output_type": "stream",
     "text": [
      "Epoch 2/3, Validation Loss: 0.10138908724289343, Accuracy: 0.9662713353413654\n"
     ]
    },
    {
     "name": "stderr",
     "output_type": "stream",
     "text": [
      "Epoch 3/3: 100%|██████████| 997/997 [22:42<00:00,  1.37s/it, loss=0.04]\n",
      "Validation: 100%|██████████| 249/249 [01:56<00:00,  2.14it/s, val_loss=0.12]"
     ]
    },
    {
     "name": "stdout",
     "output_type": "stream",
     "text": [
      "Epoch 3/3, Validation Loss: 0.12020704556391182, Accuracy: 0.9633534136546185\n"
     ]
    },
    {
     "name": "stderr",
     "output_type": "stream",
     "text": [
      "\n"
     ]
    }
   ],
   "source": [
    "from tqdm import tqdm  # Import tqdm for the progress bar\n",
    "import matplotlib.pyplot as plt\n",
    "\n",
    "# Lists to store loss and accuracy values\n",
    "train_losses = []\n",
    "val_losses = []\n",
    "val_accuracies = []\n",
    "\n",
    "num_epochs = 3\n",
    "\n",
    "for epoch in range(num_epochs):\n",
    "    model.train()\n",
    "\n",
    "    # Create a tqdm progress bar for the training data\n",
    "    train_iterator = tqdm(train_dataloader, desc=f'Epoch {epoch + 1}/{num_epochs}', dynamic_ncols=True)\n",
    "\n",
    "    for batch in train_iterator:\n",
    "        input_ids, attention_masks, labels = batch\n",
    "        input_ids, attention_masks, labels = input_ids.to(device), attention_masks.to(device), labels.to(device)\n",
    "\n",
    "        _, labels_indices = labels.max(dim=1)\n",
    "        outputs = model(input_ids, attention_mask=attention_masks, labels=labels_indices)\n",
    "        \n",
    "        \n",
    "#                        # Extract predicted probabilities\n",
    "#         predicted_probs = torch.sigmoid(outputs.logits)\n",
    "\n",
    "#         # Print the predicted probabilities for the first example in the batch\n",
    "#         print(\"Predicted Probabilities:\", predicted_probs[0].detach().cpu().numpy())\n",
    "\n",
    "        loss = outputs.loss\n",
    "        optimizer.zero_grad()\n",
    "        loss.backward()\n",
    "        optimizer.step()\n",
    "\n",
    "        # Update the tqdm progress bar\n",
    "        train_iterator.set_postfix(loss=loss.item())\n",
    "\n",
    "    # Validation\n",
    "    model.eval()\n",
    "    val_loss = 0\n",
    "    correct_predictions = 0\n",
    "    total_samples = 0\n",
    "    \n",
    "    # Create a tqdm progress bar for the validation data\n",
    "    val_iterator = tqdm(val_dataloader, desc='Validation', dynamic_ncols=True)\n",
    "\n",
    "    with torch.no_grad():\n",
    "        for batch in val_iterator:\n",
    "            input_ids, attention_masks, labels = batch\n",
    "            input_ids, attention_masks, labels = input_ids.to(device), attention_masks.to(device), labels.to(device)\n",
    "\n",
    "            _, labels_indices = labels.max(dim=1)\n",
    "            outputs = model(input_ids, attention_mask=attention_masks, labels=labels_indices)\n",
    "            val_loss += outputs.loss.item()\n",
    "            _, predicted_indices = outputs.logits.max(dim=1)\n",
    "            correct_predictions += (predicted_indices == labels_indices).sum().item()\n",
    "            total_samples += labels.size(0)\n",
    "\n",
    "            # Update the tqdm progress bar\n",
    "            val_iterator.set_postfix(val_loss=val_loss / len(val_iterator))\n",
    "            \n",
    "     # Calculate accuracy\n",
    "    accuracy = correct_predictions / total_samples\n",
    "\n",
    "    # Append values to lists\n",
    "    train_losses.append(loss.item())\n",
    "    val_losses.append(val_loss / len(val_dataloader))\n",
    "    val_accuracies.append(accuracy)\n",
    "\n",
    "    print(f'Epoch {epoch + 1}/{num_epochs}, Validation Loss: {val_loss / len(val_dataloader)}, Accuracy: {accuracy}')\n",
    "    \n",
    "\n",
    "\n"
   ]
  },
  {
   "cell_type": "code",
   "execution_count": 18,
   "id": "0fc26ed3",
   "metadata": {
    "execution": {
     "iopub.execute_input": "2024-01-07T13:31:54.003649Z",
     "iopub.status.busy": "2024-01-07T13:31:54.003240Z",
     "iopub.status.idle": "2024-01-07T13:31:54.654396Z",
     "shell.execute_reply": "2024-01-07T13:31:54.653335Z"
    },
    "papermill": {
     "duration": 1.247577,
     "end_time": "2024-01-07T13:31:54.656877",
     "exception": false,
     "start_time": "2024-01-07T13:31:53.409300",
     "status": "completed"
    },
    "tags": []
   },
   "outputs": [
    {
     "data": {
      "image/png": "[encoded data removed]",
      "text/plain": [
       "<Figure size 1200x400 with 2 Axes>"
      ]
     },
     "metadata": {},
     "output_type": "display_data"
    }
   ],
   "source": [
    "# Plotting the loss and accuracy graph\n",
    "plt.figure(figsize=(12, 4))\n",
    "plt.subplot(1, 2, 1)\n",
    "plt.plot(train_losses, label='Training Loss')\n",
    "plt.plot(val_losses, label='Validation Loss')\n",
    "plt.xlabel('Epoch')\n",
    "plt.ylabel('Loss')\n",
    "plt.legend()\n",
    "\n",
    "plt.subplot(1, 2, 2)\n",
    "plt.plot(val_accuracies, label='Validation Accuracy')\n",
    "plt.xlabel('Epoch')\n",
    "plt.ylabel('Accuracy')\n",
    "plt.legend()\n",
    "\n",
    "plt.tight_layout()\n",
    "plt.show()"
   ]
  },
  {
   "cell_type": "code",
   "execution_count": 19,
   "id": "40849fea",
   "metadata": {
    "execution": {
     "iopub.execute_input": "2024-01-07T13:31:56.002565Z",
     "iopub.status.busy": "2024-01-07T13:31:56.001724Z",
     "iopub.status.idle": "2024-01-07T13:31:57.935491Z",
     "shell.execute_reply": "2024-01-07T13:31:57.934605Z"
    },
    "id": "T22r415HuYGT",
    "papermill": {
     "duration": 2.550888,
     "end_time": "2024-01-07T13:31:57.937610",
     "exception": false,
     "start_time": "2024-01-07T13:31:55.386722",
     "status": "completed"
    },
    "tags": []
   },
   "outputs": [
    {
     "name": "stdout",
     "output_type": "stream",
     "text": [
      "Final model checkpoint saved at '/kaggle/working/final_model_checkpoint.pth'\n"
     ]
    }
   ],
   "source": [
    "checkpoint_path = '/kaggle/working/final_model_checkpoint.pth'\n",
    "final_checkpoint = {\n",
    "    'epoch': num_epochs,\n",
    "    'model_state_dict': model.state_dict(),\n",
    "    'optimizer_state_dict': optimizer.state_dict(),\n",
    "    'val_loss': val_loss / len(val_dataloader),\n",
    "}\n",
    "torch.save(final_checkpoint, checkpoint_path)\n",
    "print(f\"Final model checkpoint saved at '{checkpoint_path}'\")"
   ]
  },
  {
   "cell_type": "code",
   "execution_count": 20,
   "id": "1e2e7e66",
   "metadata": {
    "execution": {
     "iopub.execute_input": "2024-01-07T13:31:59.192778Z",
     "iopub.status.busy": "2024-01-07T13:31:59.192410Z",
     "iopub.status.idle": "2024-01-07T13:33:55.761202Z",
     "shell.execute_reply": "2024-01-07T13:33:55.760209Z"
    },
    "papermill": {
     "duration": 117.233563,
     "end_time": "2024-01-07T13:33:55.763543",
     "exception": false,
     "start_time": "2024-01-07T13:31:58.529980",
     "status": "completed"
    },
    "tags": []
   },
   "outputs": [
    {
     "name": "stderr",
     "output_type": "stream",
     "text": [
      "Validation:  20%|██        | 50/249 [00:23<01:33,  2.13it/s, val_loss=0.0248]"
     ]
    },
    {
     "name": "stdout",
     "output_type": "stream",
     "text": [
      "Predicted Probabilities: [0.6942963  0.03636036 0.23472726 0.05787715 0.20862272 0.11467873\n",
      " 0.999065  ]\n",
      "Regression Value: 0.0009350180625915527\n"
     ]
    },
    {
     "name": "stderr",
     "output_type": "stream",
     "text": [
      "Validation:  40%|████      | 100/249 [00:46<01:09,  2.14it/s, val_loss=0.0491]"
     ]
    },
    {
     "name": "stdout",
     "output_type": "stream",
     "text": [
      "Predicted Probabilities: [0.35636863 0.06083775 0.24183746 0.08663315 0.15402341 0.14860965\n",
      " 0.99970347]\n",
      "Regression Value: 0.00029653310775756836\n"
     ]
    },
    {
     "name": "stderr",
     "output_type": "stream",
     "text": [
      "Validation:  60%|██████    | 150/249 [01:10<00:46,  2.13it/s, val_loss=0.0719]"
     ]
    },
    {
     "name": "stdout",
     "output_type": "stream",
     "text": [
      "Predicted Probabilities: [0.3341718  0.05990013 0.19655287 0.08819608 0.1323284  0.13423088\n",
      " 0.999749  ]\n",
      "Regression Value: 0.0002509951591491699\n"
     ]
    },
    {
     "name": "stderr",
     "output_type": "stream",
     "text": [
      "Validation:  80%|████████  | 200/249 [01:33<00:22,  2.14it/s, val_loss=0.0945]"
     ]
    },
    {
     "name": "stdout",
     "output_type": "stream",
     "text": [
      "Predicted Probabilities: [0.39549863 0.05409877 0.23908123 0.08687111 0.14551224 0.11979125\n",
      " 0.9996455 ]\n",
      "Regression Value: 0.00035452842712402344\n"
     ]
    },
    {
     "name": "stderr",
     "output_type": "stream",
     "text": [
      "Validation: 100%|██████████| 249/249 [01:56<00:00,  2.14it/s, val_loss=0.12]"
     ]
    },
    {
     "name": "stdout",
     "output_type": "stream",
     "text": [
      "Validation Accuracy: 0.9633534136546185\n"
     ]
    },
    {
     "name": "stderr",
     "output_type": "stream",
     "text": [
      "\n"
     ]
    }
   ],
   "source": [
    "model.eval()\n",
    "val_loss = 0\n",
    "correct_predictions = 0\n",
    "total_samples = 0\n",
    "\n",
    "# Create a tqdm progress bar for the validation data\n",
    "val_iterator = tqdm(val_dataloader, desc='Validation', dynamic_ncols=True)\n",
    "\n",
    "# Counter for printing every 50 items\n",
    "print_counter = 0\n",
    "\n",
    "with torch.no_grad():\n",
    "    for batch in val_iterator:\n",
    "        input_ids, attention_masks, labels = batch\n",
    "        input_ids, attention_masks, labels = input_ids.to(device), attention_masks.to(device), labels.to(device)\n",
    "\n",
    "        _, labels_indices = labels.max(dim=1)\n",
    "        outputs = model(input_ids, attention_mask=attention_masks, labels=labels_indices)\n",
    "\n",
    "        val_loss += outputs.loss.item()\n",
    "        _, predicted_indices = outputs.logits.max(dim=1)\n",
    "        correct_predictions += (predicted_indices == labels_indices).sum().item()\n",
    "        total_samples += labels.size(0)\n",
    "\n",
    "        predicted_probs = torch.sigmoid(outputs.logits)\n",
    "\n",
    "        # Update the counter\n",
    "        print_counter += 1\n",
    "\n",
    "        # Check if it's time to print\n",
    "        if print_counter % 50 == 0:\n",
    "            # Print the predicted probabilities for the first example in the batch\n",
    "            print(\"Predicted Probabilities:\", predicted_probs[0].detach().cpu().numpy())\n",
    "\n",
    "            predicted_probabilities = predicted_probs[0].detach().cpu().numpy()\n",
    "            # Calculate the regression value\n",
    "            regression_value = 1 - predicted_probabilities[6]\n",
    "\n",
    "            # Print the result\n",
    "            print(\"Regression Value:\", regression_value)\n",
    "\n",
    "        # Update the tqdm progress bar\n",
    "        val_iterator.set_postfix(val_loss=val_loss / len(val_iterator))\n",
    "\n",
    "# Calculate accuracy\n",
    "accuracy = correct_predictions / total_samples\n",
    "\n",
    "print(\"Validation Accuracy:\", accuracy)\n"
   ]
  },
  {
   "cell_type": "code",
   "execution_count": 21,
   "id": "9a29561f",
   "metadata": {
    "execution": {
     "iopub.execute_input": "2024-01-07T13:33:57.198551Z",
     "iopub.status.busy": "2024-01-07T13:33:57.198167Z",
     "iopub.status.idle": "2024-01-07T13:33:57.616616Z",
     "shell.execute_reply": "2024-01-07T13:33:57.615797Z"
    },
    "id": "9T4TMGceuXn2",
    "papermill": {
     "duration": 1.173278,
     "end_time": "2024-01-07T13:33:57.618940",
     "exception": false,
     "start_time": "2024-01-07T13:33:56.445662",
     "status": "completed"
    },
    "tags": []
   },
   "outputs": [],
   "source": [
    "df2 = pd.read_csv(\"/kaggle/input/jigsaw-toxic-severity-rating/validation_data.csv\")"
   ]
  },
  {
   "cell_type": "code",
   "execution_count": 22,
   "id": "7d66c2c4",
   "metadata": {
    "execution": {
     "iopub.execute_input": "2024-01-07T13:33:58.886993Z",
     "iopub.status.busy": "2024-01-07T13:33:58.886210Z",
     "iopub.status.idle": "2024-01-07T13:33:58.900425Z",
     "shell.execute_reply": "2024-01-07T13:33:58.899561Z"
    },
    "id": "io0WCe5OuXeu",
    "papermill": {
     "duration": 0.652537,
     "end_time": "2024-01-07T13:33:58.902441",
     "exception": false,
     "start_time": "2024-01-07T13:33:58.249904",
     "status": "completed"
    },
    "tags": []
   },
   "outputs": [
    {
     "data": {
      "text/html": [
       "<div>\n",
       "<style scoped>\n",
       "    .dataframe tbody tr th:only-of-type {\n",
       "        vertical-align: middle;\n",
       "    }\n",
       "\n",
       "    .dataframe tbody tr th {\n",
       "        vertical-align: top;\n",
       "    }\n",
       "\n",
       "    .dataframe thead th {\n",
       "        text-align: right;\n",
       "    }\n",
       "</style>\n",
       "<table border=\"1\" class=\"dataframe\">\n",
       "  <thead>\n",
       "    <tr style=\"text-align: right;\">\n",
       "      <th></th>\n",
       "      <th>worker</th>\n",
       "      <th>less_toxic</th>\n",
       "      <th>more_toxic</th>\n",
       "    </tr>\n",
       "  </thead>\n",
       "  <tbody>\n",
       "    <tr>\n",
       "      <th>0</th>\n",
       "      <td>313</td>\n",
       "      <td>This article sucks \\n\\nwoo woo wooooooo</td>\n",
       "      <td>WHAT!!!!!!!!?!?!!?!?!!?!?!?!?!!!!!!!!!!!!!!!!!...</td>\n",
       "    </tr>\n",
       "    <tr>\n",
       "      <th>1</th>\n",
       "      <td>188</td>\n",
       "      <td>\"And yes, people should recognize that but the...</td>\n",
       "      <td>Daphne Guinness \\n\\nTop of the mornin' my fav...</td>\n",
       "    </tr>\n",
       "    <tr>\n",
       "      <th>2</th>\n",
       "      <td>82</td>\n",
       "      <td>Western Media?\\n\\nYup, because every crime in...</td>\n",
       "      <td>\"Atom you don't believe actual photos of mastu...</td>\n",
       "    </tr>\n",
       "    <tr>\n",
       "      <th>3</th>\n",
       "      <td>347</td>\n",
       "      <td>And you removed it! You numbskull! I don't car...</td>\n",
       "      <td>You seem to have sand in your vagina.\\n\\nMight...</td>\n",
       "    </tr>\n",
       "    <tr>\n",
       "      <th>4</th>\n",
       "      <td>539</td>\n",
       "      <td>smelly vagina \\n\\nBluerasberry why don't you ...</td>\n",
       "      <td>hey \\n\\nway to support nazis, you racist</td>\n",
       "    </tr>\n",
       "    <tr>\n",
       "      <th>...</th>\n",
       "      <td>...</td>\n",
       "      <td>...</td>\n",
       "      <td>...</td>\n",
       "    </tr>\n",
       "    <tr>\n",
       "      <th>30103</th>\n",
       "      <td>461</td>\n",
       "      <td>I'm sorry. I'm not an admin. I will give you t...</td>\n",
       "      <td>get out my large penis</td>\n",
       "    </tr>\n",
       "    <tr>\n",
       "      <th>30104</th>\n",
       "      <td>527</td>\n",
       "      <td>I'm sorry. I'm not an admin. I will give you t...</td>\n",
       "      <td>get out my large penis</td>\n",
       "    </tr>\n",
       "    <tr>\n",
       "      <th>30105</th>\n",
       "      <td>352</td>\n",
       "      <td>wow...\\nare you out of your mind, how was my e...</td>\n",
       "      <td>Piss off you slant eyed-gook</td>\n",
       "    </tr>\n",
       "    <tr>\n",
       "      <th>30106</th>\n",
       "      <td>311</td>\n",
       "      <td>wow...\\nare you out of your mind, how was my e...</td>\n",
       "      <td>Piss off you slant eyed-gook</td>\n",
       "    </tr>\n",
       "    <tr>\n",
       "      <th>30107</th>\n",
       "      <td>54</td>\n",
       "      <td>wow...\\nare you out of your mind, how was my e...</td>\n",
       "      <td>Piss off you slant eyed-gook</td>\n",
       "    </tr>\n",
       "  </tbody>\n",
       "</table>\n",
       "<p>30108 rows × 3 columns</p>\n",
       "</div>"
      ],
      "text/plain": [
       "       worker                                         less_toxic  \\\n",
       "0         313            This article sucks \\n\\nwoo woo wooooooo   \n",
       "1         188  \"And yes, people should recognize that but the...   \n",
       "2          82   Western Media?\\n\\nYup, because every crime in...   \n",
       "3         347  And you removed it! You numbskull! I don't car...   \n",
       "4         539   smelly vagina \\n\\nBluerasberry why don't you ...   \n",
       "...       ...                                                ...   \n",
       "30103     461  I'm sorry. I'm not an admin. I will give you t...   \n",
       "30104     527  I'm sorry. I'm not an admin. I will give you t...   \n",
       "30105     352  wow...\\nare you out of your mind, how was my e...   \n",
       "30106     311  wow...\\nare you out of your mind, how was my e...   \n",
       "30107      54  wow...\\nare you out of your mind, how was my e...   \n",
       "\n",
       "                                              more_toxic  \n",
       "0      WHAT!!!!!!!!?!?!!?!?!!?!?!?!?!!!!!!!!!!!!!!!!!...  \n",
       "1       Daphne Guinness \\n\\nTop of the mornin' my fav...  \n",
       "2      \"Atom you don't believe actual photos of mastu...  \n",
       "3      You seem to have sand in your vagina.\\n\\nMight...  \n",
       "4               hey \\n\\nway to support nazis, you racist  \n",
       "...                                                  ...  \n",
       "30103                             get out my large penis  \n",
       "30104                             get out my large penis  \n",
       "30105                       Piss off you slant eyed-gook  \n",
       "30106                       Piss off you slant eyed-gook  \n",
       "30107                       Piss off you slant eyed-gook  \n",
       "\n",
       "[30108 rows x 3 columns]"
      ]
     },
     "execution_count": 22,
     "metadata": {},
     "output_type": "execute_result"
    }
   ],
   "source": [
    "df2"
   ]
  },
  {
   "cell_type": "code",
   "execution_count": 23,
   "id": "6fbc5581",
   "metadata": {
    "execution": {
     "iopub.execute_input": "2024-01-07T13:34:00.257908Z",
     "iopub.status.busy": "2024-01-07T13:34:00.257496Z",
     "iopub.status.idle": "2024-01-07T13:34:00.263203Z",
     "shell.execute_reply": "2024-01-07T13:34:00.262296Z"
    },
    "papermill": {
     "duration": 0.640635,
     "end_time": "2024-01-07T13:34:00.265111",
     "exception": false,
     "start_time": "2024-01-07T13:33:59.624476",
     "status": "completed"
    },
    "tags": []
   },
   "outputs": [],
   "source": [
    "import torch\n",
    "from transformers import BertForSequenceClassification, AdamW\n",
    "from torch.nn import BCEWithLogitsLoss\n",
    "from torch.optim import Adam\n",
    "import torch\n",
    "\n",
    "from torch.utils.data import DataLoader, TensorDataset\n",
    "def tokenize_and_pad(text, max_len=128):\n",
    "    tokens = tokenizer.encode(text, max_length=max_len, truncation=True, padding='max_length')\n",
    "    return tokens"
   ]
  },
  {
   "cell_type": "code",
   "execution_count": 24,
   "id": "86b54989",
   "metadata": {
    "execution": {
     "iopub.execute_input": "2024-01-07T13:34:01.522606Z",
     "iopub.status.busy": "2024-01-07T13:34:01.522228Z",
     "iopub.status.idle": "2024-01-07T13:34:14.994283Z",
     "shell.execute_reply": "2024-01-07T13:34:14.993444Z"
    },
    "id": "S_9sP0RnuXSP",
    "papermill": {
     "duration": 14.10196,
     "end_time": "2024-01-07T13:34:14.996635",
     "exception": false,
     "start_time": "2024-01-07T13:34:00.894675",
     "status": "completed"
    },
    "tags": []
   },
   "outputs": [],
   "source": [
    "# Example usage:\n",
    "less_toxic_comments = df2['less_toxic'].tolist()\n",
    "tokenized_less_toxic_comments = [tokenize_and_pad(comment) for comment in less_toxic_comments]\n",
    "\n",
    "\n",
    "input_ids = torch.tensor(tokenized_less_toxic_comments)\n",
    "attention_masks = (input_ids != 0).long()\n",
    "\n",
    "\n",
    "test_dataset = TensorDataset(\n",
    "    input_ids,\n",
    "    attention_masks\n",
    ")"
   ]
  },
  {
   "cell_type": "code",
   "execution_count": 25,
   "id": "ed91a6a8",
   "metadata": {
    "execution": {
     "iopub.execute_input": "2024-01-07T13:34:16.319047Z",
     "iopub.status.busy": "2024-01-07T13:34:16.318301Z",
     "iopub.status.idle": "2024-01-07T13:34:16.323400Z",
     "shell.execute_reply": "2024-01-07T13:34:16.322505Z"
    },
    "papermill": {
     "duration": 0.633125,
     "end_time": "2024-01-07T13:34:16.325366",
     "exception": false,
     "start_time": "2024-01-07T13:34:15.692241",
     "status": "completed"
    },
    "tags": []
   },
   "outputs": [],
   "source": [
    "batch_size = 64\n",
    "test_dataloader = DataLoader(test_dataset, batch_size=batch_size, shuffle=False, drop_last = True, pin_memory=True)\n",
    "device = torch.device(\"cuda\")"
   ]
  },
  {
   "cell_type": "code",
   "execution_count": 26,
   "id": "42e0168e",
   "metadata": {
    "execution": {
     "iopub.execute_input": "2024-01-07T13:34:17.582307Z",
     "iopub.status.busy": "2024-01-07T13:34:17.581411Z",
     "iopub.status.idle": "2024-01-07T13:36:10.023673Z",
     "shell.execute_reply": "2024-01-07T13:36:10.022636Z"
    },
    "papermill": {
     "duration": 113.072222,
     "end_time": "2024-01-07T13:36:10.026111",
     "exception": false,
     "start_time": "2024-01-07T13:34:16.953889",
     "status": "completed"
    },
    "tags": []
   },
   "outputs": [
    {
     "name": "stderr",
     "output_type": "stream",
     "text": [
      "Calculating Scores: 100%|██████████| 470/470 [01:52<00:00,  4.18it/s]"
     ]
    },
    {
     "name": "stdout",
     "output_type": "stream",
     "text": [
      "       worker                                         less_toxic  \\\n",
      "0         313            This article sucks \\n\\nwoo woo wooooooo   \n",
      "1         188  \"And yes, people should recognize that but the...   \n",
      "2          82   Western Media?\\n\\nYup, because every crime in...   \n",
      "3         347  And you removed it! You numbskull! I don't car...   \n",
      "4         539   smelly vagina \\n\\nBluerasberry why don't you ...   \n",
      "...       ...                                                ...   \n",
      "30103     461  I'm sorry. I'm not an admin. I will give you t...   \n",
      "30104     527  I'm sorry. I'm not an admin. I will give you t...   \n",
      "30105     352  wow...\\nare you out of your mind, how was my e...   \n",
      "30106     311  wow...\\nare you out of your mind, how was my e...   \n",
      "30107      54  wow...\\nare you out of your mind, how was my e...   \n",
      "\n",
      "                                              more_toxic  less_toxic_score  \n",
      "0      WHAT!!!!!!!!?!?!!?!?!!?!?!?!?!!!!!!!!!!!!!!!!!...          0.704471  \n",
      "1       Daphne Guinness \\n\\nTop of the mornin' my fav...          0.000873  \n",
      "2      \"Atom you don't believe actual photos of mastu...          0.013221  \n",
      "3      You seem to have sand in your vagina.\\n\\nMight...          0.465525  \n",
      "4               hey \\n\\nway to support nazis, you racist          0.704281  \n",
      "...                                                  ...               ...  \n",
      "30103                             get out my large penis               NaN  \n",
      "30104                             get out my large penis               NaN  \n",
      "30105                       Piss off you slant eyed-gook               NaN  \n",
      "30106                       Piss off you slant eyed-gook               NaN  \n",
      "30107                       Piss off you slant eyed-gook               NaN  \n",
      "\n",
      "[30108 rows x 4 columns]\n"
     ]
    },
    {
     "name": "stderr",
     "output_type": "stream",
     "text": [
      "\n"
     ]
    }
   ],
   "source": [
    "# Create a tqdm progress bar for the DataLoader batches\n",
    "from tqdm import tqdm\n",
    "batch_num = 0\n",
    "\n",
    "model.eval()\n",
    "with torch.no_grad():\n",
    "        for batch in tqdm(test_dataloader, desc='Calculating Scores', dynamic_ncols=True):\n",
    "            input_ids, attention_masks = batch\n",
    "            input_ids, attention_masks = input_ids.to(device), attention_masks.to(device)\n",
    "\n",
    "\n",
    "            # Now you can use the input_ids and attention_masks as needed in your model\n",
    "            outputs = model(input_ids, attention_mask=attention_masks)\n",
    "\n",
    "            predicted_probs = torch.sigmoid(outputs.logits)\n",
    "\n",
    "            # Iterate over the batch to get individual sample predictions and update the DataFrame\n",
    "           \n",
    "            for i in range(batch_size):\n",
    "                index = batch_size * batch_num + i  # Calculate the original index of the sample\n",
    "                regression_value = 1 - predicted_probs[i].detach().cpu().numpy()[6]\n",
    "#                 print(f\"Regression value of{index}: {regression_value}\")\n",
    "\n",
    "                # Assign the calculated regression value to the new column 'less_toxic_score'\n",
    "                df2.at[index, 'less_toxic_score'] = regression_value\n",
    "\n",
    "            batch_num += 1\n",
    "\n",
    "# Print the updated DataFrame\n",
    "print(df2)"
   ]
  },
  {
   "cell_type": "code",
   "execution_count": 27,
   "id": "ac4b501a",
   "metadata": {
    "execution": {
     "iopub.execute_input": "2024-01-07T13:36:11.436179Z",
     "iopub.status.busy": "2024-01-07T13:36:11.435781Z",
     "iopub.status.idle": "2024-01-07T13:36:11.442182Z",
     "shell.execute_reply": "2024-01-07T13:36:11.441043Z"
    },
    "papermill": {
     "duration": 0.748116,
     "end_time": "2024-01-07T13:36:11.444137",
     "exception": false,
     "start_time": "2024-01-07T13:36:10.696021",
     "status": "completed"
    },
    "tags": []
   },
   "outputs": [
    {
     "name": "stdout",
     "output_type": "stream",
     "text": [
      "Number of NaN values in 'less_toxic_score' column: 28\n"
     ]
    }
   ],
   "source": [
    "import pandas as pd\n",
    "\n",
    "# Assuming df2 is your DataFrame\n",
    "nan_count = df2[\"less_toxic_score\"].isna().sum()\n",
    "\n",
    "# Alternatively, you can use isnull() instead of isna()\n",
    "# nan_count = df2[\"less_toxic_score\"].isnull().sum()\n",
    "\n",
    "print(\"Number of NaN values in 'less_toxic_score' column:\", nan_count)\n"
   ]
  },
  {
   "cell_type": "code",
   "execution_count": 28,
   "id": "fa423762",
   "metadata": {
    "execution": {
     "iopub.execute_input": "2024-01-07T13:36:12.786408Z",
     "iopub.status.busy": "2024-01-07T13:36:12.785706Z",
     "iopub.status.idle": "2024-01-07T13:36:26.442227Z",
     "shell.execute_reply": "2024-01-07T13:36:26.441440Z"
    },
    "papermill": {
     "duration": 14.330756,
     "end_time": "2024-01-07T13:36:26.444687",
     "exception": false,
     "start_time": "2024-01-07T13:36:12.113931",
     "status": "completed"
    },
    "tags": []
   },
   "outputs": [],
   "source": [
    "# Example usage:\n",
    "more_toxic_comments = df2['more_toxic'].tolist()\n",
    "tokenized_more_toxic_comments = [tokenize_and_pad(comment) for comment in more_toxic_comments]\n",
    "\n",
    "\n",
    "input_ids = torch.tensor(tokenized_more_toxic_comments)\n",
    "attention_masks = (input_ids != 0).long()\n",
    "\n",
    "\n",
    "test_dataset = TensorDataset(\n",
    "    input_ids,\n",
    "    attention_masks\n",
    ")"
   ]
  },
  {
   "cell_type": "code",
   "execution_count": 29,
   "id": "95297568",
   "metadata": {
    "execution": {
     "iopub.execute_input": "2024-01-07T13:36:27.859322Z",
     "iopub.status.busy": "2024-01-07T13:36:27.858980Z",
     "iopub.status.idle": "2024-01-07T13:36:27.867126Z",
     "shell.execute_reply": "2024-01-07T13:36:27.866417Z"
    },
    "papermill": {
     "duration": 0.75028,
     "end_time": "2024-01-07T13:36:27.868954",
     "exception": false,
     "start_time": "2024-01-07T13:36:27.118674",
     "status": "completed"
    },
    "tags": []
   },
   "outputs": [],
   "source": [
    "batch_size = 64\n",
    "test_dataloader = DataLoader(test_dataset, batch_size=batch_size, shuffle=False, drop_last = True, pin_memory=True)\n",
    "device = torch.device(\"cuda\")"
   ]
  },
  {
   "cell_type": "code",
   "execution_count": 30,
   "id": "675d7113",
   "metadata": {
    "execution": {
     "iopub.execute_input": "2024-01-07T13:36:29.269249Z",
     "iopub.status.busy": "2024-01-07T13:36:29.268857Z",
     "iopub.status.idle": "2024-01-07T13:38:21.811808Z",
     "shell.execute_reply": "2024-01-07T13:38:21.810420Z"
    },
    "papermill": {
     "duration": 113.280987,
     "end_time": "2024-01-07T13:38:21.813987",
     "exception": false,
     "start_time": "2024-01-07T13:36:28.533000",
     "status": "completed"
    },
    "tags": []
   },
   "outputs": [
    {
     "name": "stderr",
     "output_type": "stream",
     "text": [
      "Calculating Scores: 100%|██████████| 470/470 [01:52<00:00,  4.18it/s]"
     ]
    },
    {
     "name": "stdout",
     "output_type": "stream",
     "text": [
      "       worker                                         less_toxic  \\\n",
      "0         313            This article sucks \\n\\nwoo woo wooooooo   \n",
      "1         188  \"And yes, people should recognize that but the...   \n",
      "2          82   Western Media?\\n\\nYup, because every crime in...   \n",
      "3         347  And you removed it! You numbskull! I don't car...   \n",
      "4         539   smelly vagina \\n\\nBluerasberry why don't you ...   \n",
      "...       ...                                                ...   \n",
      "30103     461  I'm sorry. I'm not an admin. I will give you t...   \n",
      "30104     527  I'm sorry. I'm not an admin. I will give you t...   \n",
      "30105     352  wow...\\nare you out of your mind, how was my e...   \n",
      "30106     311  wow...\\nare you out of your mind, how was my e...   \n",
      "30107      54  wow...\\nare you out of your mind, how was my e...   \n",
      "\n",
      "                                              more_toxic  less_toxic_score  \\\n",
      "0      WHAT!!!!!!!!?!?!!?!?!!?!?!?!?!!!!!!!!!!!!!!!!!...          0.704471   \n",
      "1       Daphne Guinness \\n\\nTop of the mornin' my fav...          0.000873   \n",
      "2      \"Atom you don't believe actual photos of mastu...          0.013221   \n",
      "3      You seem to have sand in your vagina.\\n\\nMight...          0.465525   \n",
      "4               hey \\n\\nway to support nazis, you racist          0.704281   \n",
      "...                                                  ...               ...   \n",
      "30103                             get out my large penis               NaN   \n",
      "30104                             get out my large penis               NaN   \n",
      "30105                       Piss off you slant eyed-gook               NaN   \n",
      "30106                       Piss off you slant eyed-gook               NaN   \n",
      "30107                       Piss off you slant eyed-gook               NaN   \n",
      "\n",
      "       more_toxic_score  \n",
      "0              0.104732  \n",
      "1              0.435985  \n",
      "2              0.007718  \n",
      "3              0.752420  \n",
      "4              0.591317  \n",
      "...                 ...  \n",
      "30103               NaN  \n",
      "30104               NaN  \n",
      "30105               NaN  \n",
      "30106               NaN  \n",
      "30107               NaN  \n",
      "\n",
      "[30108 rows x 5 columns]\n"
     ]
    },
    {
     "name": "stderr",
     "output_type": "stream",
     "text": [
      "\n"
     ]
    }
   ],
   "source": [
    "# Create a tqdm progress bar for the DataLoader batches\n",
    "from tqdm import tqdm\n",
    "batch_num = 0\n",
    "\n",
    "model.eval()\n",
    "with torch.no_grad():\n",
    "        for batch in tqdm(test_dataloader, desc='Calculating Scores', dynamic_ncols=True):\n",
    "            input_ids, attention_masks = batch\n",
    "            input_ids, attention_masks = input_ids.to(device), attention_masks.to(device)\n",
    "\n",
    "\n",
    "            # Now you can use the input_ids and attention_masks as needed in your model\n",
    "            outputs = model(input_ids, attention_mask=attention_masks)\n",
    "\n",
    "            predicted_probs = torch.sigmoid(outputs.logits)\n",
    "\n",
    "            # Iterate over the batch to get individual sample predictions and update the DataFrame\n",
    "           \n",
    "            for i in range(batch_size):\n",
    "                index = batch_size * batch_num + i  # Calculate the original index of the sample\n",
    "                regression_value = 1 - predicted_probs[i].detach().cpu().numpy()[6]\n",
    "#                 print(f\"Regression value of{index}: {regression_value}\")\n",
    "\n",
    "                # Assign the calculated regression value to the new column 'less_toxic_score'\n",
    "                df2.at[index, 'more_toxic_score'] = regression_value\n",
    "\n",
    "            batch_num += 1\n",
    "\n",
    "# Print the updated DataFrame\n",
    "print(df2)"
   ]
  },
  {
   "cell_type": "code",
   "execution_count": 31,
   "id": "be1952d0",
   "metadata": {
    "execution": {
     "iopub.execute_input": "2024-01-07T13:38:23.289820Z",
     "iopub.status.busy": "2024-01-07T13:38:23.289455Z",
     "iopub.status.idle": "2024-01-07T13:38:23.309308Z",
     "shell.execute_reply": "2024-01-07T13:38:23.308203Z"
    },
    "papermill": {
     "duration": 0.79253,
     "end_time": "2024-01-07T13:38:23.311713",
     "exception": false,
     "start_time": "2024-01-07T13:38:22.519183",
     "status": "completed"
    },
    "tags": []
   },
   "outputs": [
    {
     "name": "stdout",
     "output_type": "stream",
     "text": [
      "       worker                                         less_toxic  \\\n",
      "0         313            This article sucks \\n\\nwoo woo wooooooo   \n",
      "1         188  \"And yes, people should recognize that but the...   \n",
      "2          82   Western Media?\\n\\nYup, because every crime in...   \n",
      "3         347  And you removed it! You numbskull! I don't car...   \n",
      "4         539   smelly vagina \\n\\nBluerasberry why don't you ...   \n",
      "...       ...                                                ...   \n",
      "30075     584       Some person posted a picture of horse feces.   \n",
      "30076     110  \"\\nSorry, really not interested in your opinio...   \n",
      "30077     486          REDIRECT User talk:Buckner 1986\\More Crap   \n",
      "30078      22  \"\\n\\nOH, OH, NICE ONE, REVERTING MY EDITS! CHR...   \n",
      "30079     296  \"\\nHeh. I don't really care. I've made some go...   \n",
      "\n",
      "                                              more_toxic  less_toxic_score  \\\n",
      "0      WHAT!!!!!!!!?!?!!?!?!!?!?!?!?!!!!!!!!!!!!!!!!!...          0.704471   \n",
      "1       Daphne Guinness \\n\\nTop of the mornin' my fav...          0.000873   \n",
      "2      \"Atom you don't believe actual photos of mastu...          0.013221   \n",
      "3      You seem to have sand in your vagina.\\n\\nMight...          0.465525   \n",
      "4               hey \\n\\nway to support nazis, you racist          0.704281   \n",
      "...                                                  ...               ...   \n",
      "30075  Don't mind Freepsbane he is a troll.70.107.183...          0.002364   \n",
      "30076  Please excuse those lines of events- my friend...          0.019808   \n",
      "30077  \"\\n\\n Re: \"\"vandal\"\" \"\"terrorist\"\" etc... \\n\\n...          0.675819   \n",
      "30078  A spade is a spade; don't get your panties in ...          0.223852   \n",
      "30079   Nig, Nigs? \\n\\nNig, Nigs? What about Nig, Nig...          0.040910   \n",
      "\n",
      "       more_toxic_score  \n",
      "0              0.104732  \n",
      "1              0.435985  \n",
      "2              0.007718  \n",
      "3              0.752420  \n",
      "4              0.591317  \n",
      "...                 ...  \n",
      "30075          0.001111  \n",
      "30076          0.000622  \n",
      "30077          0.000248  \n",
      "30078          0.002574  \n",
      "30079          0.044440  \n",
      "\n",
      "[30080 rows x 5 columns]\n"
     ]
    }
   ],
   "source": [
    "# Drop rows with NaN values\n",
    "df2 = df2.dropna()\n",
    "\n",
    "# Now df2 contains only rows without NaN values\n",
    "print(df2)"
   ]
  },
  {
   "cell_type": "code",
   "execution_count": 32,
   "id": "f2ab2dcc",
   "metadata": {
    "execution": {
     "iopub.execute_input": "2024-01-07T13:38:24.764408Z",
     "iopub.status.busy": "2024-01-07T13:38:24.763656Z",
     "iopub.status.idle": "2024-01-07T13:38:24.770805Z",
     "shell.execute_reply": "2024-01-07T13:38:24.769911Z"
    },
    "papermill": {
     "duration": 0.737024,
     "end_time": "2024-01-07T13:38:24.774378",
     "exception": false,
     "start_time": "2024-01-07T13:38:24.037354",
     "status": "completed"
    },
    "tags": []
   },
   "outputs": [
    {
     "name": "stdout",
     "output_type": "stream",
     "text": [
      "Accuracy: 68.85970744680851\n"
     ]
    },
    {
     "name": "stderr",
     "output_type": "stream",
     "text": [
      "/tmp/ipykernel_26/1679018880.py:2: SettingWithCopyWarning: \n",
      "A value is trying to be set on a copy of a slice from a DataFrame.\n",
      "Try using .loc[row_indexer,col_indexer] = value instead\n",
      "\n",
      "See the caveats in the documentation: https://pandas.pydata.org/pandas-docs/stable/user_guide/indexing.html#returning-a-view-versus-a-copy\n",
      "  df2['correct_classification'] = df2['more_toxic_score'] > df2['less_toxic_score']\n"
     ]
    }
   ],
   "source": [
    "# Compare values and create a new column 'Column2_greater_than_Column1'\n",
    "df2['correct_classification'] = df2['more_toxic_score'] > df2['less_toxic_score']\n",
    "\n",
    "# Calculate the number of times Column 2 has a greater value than Column 1\n",
    "count_greater = df2['correct_classification'].sum()\n",
    "\n",
    "print(f\"Accuracy: {(count_greater/len(df2)*100)}\")\n"
   ]
  },
  {
   "cell_type": "code",
   "execution_count": null,
   "id": "01efbf78",
   "metadata": {
    "papermill": {
     "duration": 0.699345,
     "end_time": "2024-01-07T13:38:26.236146",
     "exception": false,
     "start_time": "2024-01-07T13:38:25.536801",
     "status": "completed"
    },
    "tags": []
   },
   "outputs": [],
   "source": []
  }
 ],
 "metadata": {
  "accelerator": "GPU",
  "colab": {
   "gpuType": "T4",
   "provenance": []
  },
  "kaggle": {
   "accelerator": "gpu",
   "dataSources": [
    {
     "databundleVersionId": 44219,
     "sourceId": 8076,
     "sourceType": "competition"
    },
    {
     "databundleVersionId": 3445671,
     "sourceId": 27935,
     "sourceType": "competition"
    }
   ],
   "dockerImageVersionId": 30627,
   "isGpuEnabled": true,
   "isInternetEnabled": true,
   "language": "python",
   "sourceType": "notebook"
  },
  "kernelspec": {
   "display_name": "Python 3",
   "language": "python",
   "name": "python3"
  },
  "language_info": {
   "codemirror_mode": {
    "name": "ipython",
    "version": 3
   },
   "file_extension": ".py",
   "mimetype": "text/x-python",
   "name": "python",
   "nbconvert_exporter": "python",
   "pygments_lexer": "ipython3",
   "version": "3.10.12"
  },
  "papermill": {
   "default_parameters": {},
   "duration": 4975.297757,
   "end_time": "2024-01-07T13:38:29.665980",
   "environment_variables": {},
   "exception": null,
   "input_path": "__notebook__.ipynb",
   "output_path": "__notebook__.ipynb",
   "parameters": {},
   "start_time": "2024-01-07T12:15:34.368223",
   "version": "2.4.0"
  },
  "widgets": {
   "application/vnd.jupyter.widget-state+json": {
    "state": {
     "0091c1c7e03e46d3bd98a839ed332a64": {
      "model_module": "@jupyter-widgets/base",
      "model_module_version": "1.2.0",
      "model_name": "LayoutModel",
      "state": {
       "_model_module": "@jupyter-widgets/base",
       "_model_module_version": "1.2.0",
       "_model_name": "LayoutModel",
       "_view_count": null,
       "_view_module": "@jupyter-widgets/base",
       "_view_module_version": "1.2.0",
       "_view_name": "LayoutView",
       "align_content": null,
       "align_items": null,
       "align_self": null,
       "border": null,
       "bottom": null,
       "display": null,
       "flex": null,
       "flex_flow": null,
       "grid_area": null,
       "grid_auto_columns": null,
       "grid_auto_flow": null,
       "grid_auto_rows": null,
       "grid_column": null,
       "grid_gap": null,
       "grid_row": null,
       "grid_template_areas": null,
       "grid_template_columns": null,
       "grid_template_rows": null,
       "height": null,
       "justify_content": null,
       "justify_items": null,
       "left": null,
       "margin": null,
       "max_height": null,
       "max_width": null,
       "min_height": null,
       "min_width": null,
       "object_fit": null,
       "object_position": null,
       "order": null,
       "overflow": null,
       "overflow_x": null,
       "overflow_y": null,
       "padding": null,
       "right": null,
       "top": null,
       "visibility": null,
       "width": null
      }
     },
     "0d7da3999a49407a953fa486c6929d5e": {
      "model_module": "@jupyter-widgets/base",
      "model_module_version": "1.2.0",
      "model_name": "LayoutModel",
      "state": {
       "_model_module": "@jupyter-widgets/base",
       "_model_module_version": "1.2.0",
       "_model_name": "LayoutModel",
       "_view_count": null,
       "_view_module": "@jupyter-widgets/base",
       "_view_module_version": "1.2.0",
       "_view_name": "LayoutView",
       "align_content": null,
       "align_items": null,
       "align_self": null,
       "border": null,
       "bottom": null,
       "display": null,
       "flex": null,
       "flex_flow": null,
       "grid_area": null,
       "grid_auto_columns": null,
       "grid_auto_flow": null,
       "grid_auto_rows": null,
       "grid_column": null,
       "grid_gap": null,
       "grid_row": null,
       "grid_template_areas": null,
       "grid_template_columns": null,
       "grid_template_rows": null,
       "height": null,
       "justify_content": null,
       "justify_items": null,
       "left": null,
       "margin": null,
       "max_height": null,
       "max_width": null,
       "min_height": null,
       "min_width": null,
       "object_fit": null,
       "object_position": null,
       "order": null,
       "overflow": null,
       "overflow_x": null,
       "overflow_y": null,
       "padding": null,
       "right": null,
       "top": null,
       "visibility": null,
       "width": null
      }
     },
     "10cd1931313c4e81aa61be51241ed835": {
      "model_module": "@jupyter-widgets/base",
      "model_module_version": "1.2.0",
      "model_name": "LayoutModel",
      "state": {
       "_model_module": "@jupyter-widgets/base",
       "_model_module_version": "1.2.0",
       "_model_name": "LayoutModel",
       "_view_count": null,
       "_view_module": "@jupyter-widgets/base",
       "_view_module_version": "1.2.0",
       "_view_name": "LayoutView",
       "align_content": null,
       "align_items": null,
       "align_self": null,
       "border": null,
       "bottom": null,
       "display": null,
       "flex": null,
       "flex_flow": null,
       "grid_area": null,
       "grid_auto_columns": null,
       "grid_auto_flow": null,
       "grid_auto_rows": null,
       "grid_column": null,
       "grid_gap": null,
       "grid_row": null,
       "grid_template_areas": null,
       "grid_template_columns": null,
       "grid_template_rows": null,
       "height": null,
       "justify_content": null,
       "justify_items": null,
       "left": null,
       "margin": null,
       "max_height": null,
       "max_width": null,
       "min_height": null,
       "min_width": null,
       "object_fit": null,
       "object_position": null,
       "order": null,
       "overflow": null,
       "overflow_x": null,
       "overflow_y": null,
       "padding": null,
       "right": null,
       "top": null,
       "visibility": null,
       "width": null
      }
     },
     "1a954ab384f54320b4e0d8cdd22d09a8": {
      "model_module": "@jupyter-widgets/base",
      "model_module_version": "1.2.0",
      "model_name": "LayoutModel",
      "state": {
       "_model_module": "@jupyter-widgets/base",
       "_model_module_version": "1.2.0",
       "_model_name": "LayoutModel",
       "_view_count": null,
       "_view_module": "@jupyter-widgets/base",
       "_view_module_version": "1.2.0",
       "_view_name": "LayoutView",
       "align_content": null,
       "align_items": null,
       "align_self": null,
       "border": null,
       "bottom": null,
       "display": null,
       "flex": null,
       "flex_flow": null,
       "grid_area": null,
       "grid_auto_columns": null,
       "grid_auto_flow": null,
       "grid_auto_rows": null,
       "grid_column": null,
       "grid_gap": null,
       "grid_row": null,
       "grid_template_areas": null,
       "grid_template_columns": null,
       "grid_template_rows": null,
       "height": null,
       "justify_content": null,
       "justify_items": null,
       "left": null,
       "margin": null,
       "max_height": null,
       "max_width": null,
       "min_height": null,
       "min_width": null,
       "object_fit": null,
       "object_position": null,
       "order": null,
       "overflow": null,
       "overflow_x": null,
       "overflow_y": null,
       "padding": null,
       "right": null,
       "top": null,
       "visibility": null,
       "width": null
      }
     },
     "1e058642466c4f1eb48e94f26d60401b": {
      "model_module": "@jupyter-widgets/controls",
      "model_module_version": "1.5.0",
      "model_name": "HTMLModel",
      "state": {
       "_dom_classes": [],
       "_model_module": "@jupyter-widgets/controls",
       "_model_module_version": "1.5.0",
       "_model_name": "HTMLModel",
       "_view_count": null,
       "_view_module": "@jupyter-widgets/controls",
       "_view_module_version": "1.5.0",
       "_view_name": "HTMLView",
       "description": "",
       "description_tooltip": null,
       "layout": "IPY_MODEL_84c7fbbf24904a1bbdfec99782de3134",
       "placeholder": "​",
       "style": "IPY_MODEL_89f8acad4be3449882d09a9efdf4654c",
       "value": " 440M/440M [00:43&lt;00:00, 15.2MB/s]"
      }
     },
     "1e41dd8245074c19add884cbb0bf8f05": {
      "model_module": "@jupyter-widgets/controls",
      "model_module_version": "1.5.0",
      "model_name": "DescriptionStyleModel",
      "state": {
       "_model_module": "@jupyter-widgets/controls",
       "_model_module_version": "1.5.0",
       "_model_name": "DescriptionStyleModel",
       "_view_count": null,
       "_view_module": "@jupyter-widgets/base",
       "_view_module_version": "1.2.0",
       "_view_name": "StyleView",
       "description_width": ""
      }
     },
     "286be51f2ed24baca11b09a680781725": {
      "model_module": "@jupyter-widgets/base",
      "model_module_version": "1.2.0",
      "model_name": "LayoutModel",
      "state": {
       "_model_module": "@jupyter-widgets/base",
       "_model_module_version": "1.2.0",
       "_model_name": "LayoutModel",
       "_view_count": null,
       "_view_module": "@jupyter-widgets/base",
       "_view_module_version": "1.2.0",
       "_view_name": "LayoutView",
       "align_content": null,
       "align_items": null,
       "align_self": null,
       "border": null,
       "bottom": null,
       "display": null,
       "flex": null,
       "flex_flow": null,
       "grid_area": null,
       "grid_auto_columns": null,
       "grid_auto_flow": null,
       "grid_auto_rows": null,
       "grid_column": null,
       "grid_gap": null,
       "grid_row": null,
       "grid_template_areas": null,
       "grid_template_columns": null,
       "grid_template_rows": null,
       "height": null,
       "justify_content": null,
       "justify_items": null,
       "left": null,
       "margin": null,
       "max_height": null,
       "max_width": null,
       "min_height": null,
       "min_width": null,
       "object_fit": null,
       "object_position": null,
       "order": null,
       "overflow": null,
       "overflow_x": null,
       "overflow_y": null,
       "padding": null,
       "right": null,
       "top": null,
       "visibility": null,
       "width": null
      }
     },
     "2b8e99765f89464a96d624e1826e21fa": {
      "model_module": "@jupyter-widgets/controls",
      "model_module_version": "1.5.0",
      "model_name": "HTMLModel",
      "state": {
       "_dom_classes": [],
       "_model_module": "@jupyter-widgets/controls",
       "_model_module_version": "1.5.0",
       "_model_name": "HTMLModel",
       "_view_count": null,
       "_view_module": "@jupyter-widgets/controls",
       "_view_module_version": "1.5.0",
       "_view_name": "HTMLView",
       "description": "",
       "description_tooltip": null,
       "layout": "IPY_MODEL_10cd1931313c4e81aa61be51241ed835",
       "placeholder": "​",
       "style": "IPY_MODEL_cfd8077d9af3417993b8b348567c8c2d",
       "value": "config.json: 100%"
      }
     },
     "346be1e0461d45e78070f90e6cb035ae": {
      "model_module": "@jupyter-widgets/base",
      "model_module_version": "1.2.0",
      "model_name": "LayoutModel",
      "state": {
       "_model_module": "@jupyter-widgets/base",
       "_model_module_version": "1.2.0",
       "_model_name": "LayoutModel",
       "_view_count": null,
       "_view_module": "@jupyter-widgets/base",
       "_view_module_version": "1.2.0",
       "_view_name": "LayoutView",
       "align_content": null,
       "align_items": null,
       "align_self": null,
       "border": null,
       "bottom": null,
       "display": null,
       "flex": null,
       "flex_flow": null,
       "grid_area": null,
       "grid_auto_columns": null,
       "grid_auto_flow": null,
       "grid_auto_rows": null,
       "grid_column": null,
       "grid_gap": null,
       "grid_row": null,
       "grid_template_areas": null,
       "grid_template_columns": null,
       "grid_template_rows": null,
       "height": null,
       "justify_content": null,
       "justify_items": null,
       "left": null,
       "margin": null,
       "max_height": null,
       "max_width": null,
       "min_height": null,
       "min_width": null,
       "object_fit": null,
       "object_position": null,
       "order": null,
       "overflow": null,
       "overflow_x": null,
       "overflow_y": null,
       "padding": null,
       "right": null,
       "top": null,
       "visibility": null,
       "width": null
      }
     },
     "40629c72c19b4bb1b987e590e8b881bb": {
      "model_module": "@jupyter-widgets/controls",
      "model_module_version": "1.5.0",
      "model_name": "FloatProgressModel",
      "state": {
       "_dom_classes": [],
       "_model_module": "@jupyter-widgets/controls",
       "_model_module_version": "1.5.0",
       "_model_name": "FloatProgressModel",
       "_view_count": null,
       "_view_module": "@jupyter-widgets/controls",
       "_view_module_version": "1.5.0",
       "_view_name": "ProgressView",
       "bar_style": "success",
       "description": "",
       "description_tooltip": null,
       "layout": "IPY_MODEL_1a954ab384f54320b4e0d8cdd22d09a8",
       "max": 440443452.0,
       "min": 0.0,
       "orientation": "horizontal",
       "style": "IPY_MODEL_bcb9d789d3a0420e9d1454eaa63e9059",
       "value": 440443452.0
      }
     },
     "432e7b1a0c414c0daab21a0ed8feaa0f": {
      "model_module": "@jupyter-widgets/controls",
      "model_module_version": "1.5.0",
      "model_name": "DescriptionStyleModel",
      "state": {
       "_model_module": "@jupyter-widgets/controls",
       "_model_module_version": "1.5.0",
       "_model_name": "DescriptionStyleModel",
       "_view_count": null,
       "_view_module": "@jupyter-widgets/base",
       "_view_module_version": "1.2.0",
       "_view_name": "StyleView",
       "description_width": ""
      }
     },
     "4757e178723c4010ad208d4cfce6c51f": {
      "model_module": "@jupyter-widgets/controls",
      "model_module_version": "1.5.0",
      "model_name": "ProgressStyleModel",
      "state": {
       "_model_module": "@jupyter-widgets/controls",
       "_model_module_version": "1.5.0",
       "_model_name": "ProgressStyleModel",
       "_view_count": null,
       "_view_module": "@jupyter-widgets/base",
       "_view_module_version": "1.2.0",
       "_view_name": "StyleView",
       "bar_color": null,
       "description_width": ""
      }
     },
     "4cde89e974424a2fa8e1de6ea1479739": {
      "model_module": "@jupyter-widgets/controls",
      "model_module_version": "1.5.0",
      "model_name": "FloatProgressModel",
      "state": {
       "_dom_classes": [],
       "_model_module": "@jupyter-widgets/controls",
       "_model_module_version": "1.5.0",
       "_model_name": "FloatProgressModel",
       "_view_count": null,
       "_view_module": "@jupyter-widgets/controls",
       "_view_module_version": "1.5.0",
       "_view_name": "ProgressView",
       "bar_style": "success",
       "description": "",
       "description_tooltip": null,
       "layout": "IPY_MODEL_8543299aabb94e8fb595366ae76af2f4",
       "max": 1235.0,
       "min": 0.0,
       "orientation": "horizontal",
       "style": "IPY_MODEL_4757e178723c4010ad208d4cfce6c51f",
       "value": 1235.0
      }
     },
     "508a3c6d0da54e41b3468e4c41f6448f": {
      "model_module": "@jupyter-widgets/base",
      "model_module_version": "1.2.0",
      "model_name": "LayoutModel",
      "state": {
       "_model_module": "@jupyter-widgets/base",
       "_model_module_version": "1.2.0",
       "_model_name": "LayoutModel",
       "_view_count": null,
       "_view_module": "@jupyter-widgets/base",
       "_view_module_version": "1.2.0",
       "_view_name": "LayoutView",
       "align_content": null,
       "align_items": null,
       "align_self": null,
       "border": null,
       "bottom": null,
       "display": null,
       "flex": null,
       "flex_flow": null,
       "grid_area": null,
       "grid_auto_columns": null,
       "grid_auto_flow": null,
       "grid_auto_rows": null,
       "grid_column": null,
       "grid_gap": null,
       "grid_row": null,
       "grid_template_areas": null,
       "grid_template_columns": null,
       "grid_template_rows": null,
       "height": null,
       "justify_content": null,
       "justify_items": null,
       "left": null,
       "margin": null,
       "max_height": null,
       "max_width": null,
       "min_height": null,
       "min_width": null,
       "object_fit": null,
       "object_position": null,
       "order": null,
       "overflow": null,
       "overflow_x": null,
       "overflow_y": null,
       "padding": null,
       "right": null,
       "top": null,
       "visibility": null,
       "width": null
      }
     },
     "58267ffb3f204016bc33a85b2c2ad1d2": {
      "model_module": "@jupyter-widgets/base",
      "model_module_version": "1.2.0",
      "model_name": "LayoutModel",
      "state": {
       "_model_module": "@jupyter-widgets/base",
       "_model_module_version": "1.2.0",
       "_model_name": "LayoutModel",
       "_view_count": null,
       "_view_module": "@jupyter-widgets/base",
       "_view_module_version": "1.2.0",
       "_view_name": "LayoutView",
       "align_content": null,
       "align_items": null,
       "align_self": null,
       "border": null,
       "bottom": null,
       "display": null,
       "flex": null,
       "flex_flow": null,
       "grid_area": null,
       "grid_auto_columns": null,
       "grid_auto_flow": null,
       "grid_auto_rows": null,
       "grid_column": null,
       "grid_gap": null,
       "grid_row": null,
       "grid_template_areas": null,
       "grid_template_columns": null,
       "grid_template_rows": null,
       "height": null,
       "justify_content": null,
       "justify_items": null,
       "left": null,
       "margin": null,
       "max_height": null,
       "max_width": null,
       "min_height": null,
       "min_width": null,
       "object_fit": null,
       "object_position": null,
       "order": null,
       "overflow": null,
       "overflow_x": null,
       "overflow_y": null,
       "padding": null,
       "right": null,
       "top": null,
       "visibility": null,
       "width": null
      }
     },
     "59a960b412684e63a82e1758e111e5e9": {
      "model_module": "@jupyter-widgets/base",
      "model_module_version": "1.2.0",
      "model_name": "LayoutModel",
      "state": {
       "_model_module": "@jupyter-widgets/base",
       "_model_module_version": "1.2.0",
       "_model_name": "LayoutModel",
       "_view_count": null,
       "_view_module": "@jupyter-widgets/base",
       "_view_module_version": "1.2.0",
       "_view_name": "LayoutView",
       "align_content": null,
       "align_items": null,
       "align_self": null,
       "border": null,
       "bottom": null,
       "display": null,
       "flex": null,
       "flex_flow": null,
       "grid_area": null,
       "grid_auto_columns": null,
       "grid_auto_flow": null,
       "grid_auto_rows": null,
       "grid_column": null,
       "grid_gap": null,
       "grid_row": null,
       "grid_template_areas": null,
       "grid_template_columns": null,
       "grid_template_rows": null,
       "height": null,
       "justify_content": null,
       "justify_items": null,
       "left": null,
       "margin": null,
       "max_height": null,
       "max_width": null,
       "min_height": null,
       "min_width": null,
       "object_fit": null,
       "object_position": null,
       "order": null,
       "overflow": null,
       "overflow_x": null,
       "overflow_y": null,
       "padding": null,
       "right": null,
       "top": null,
       "visibility": null,
       "width": null
      }
     },
     "5d873a89b29b41abb4da4b2808bf9c5c": {
      "model_module": "@jupyter-widgets/controls",
      "model_module_version": "1.5.0",
      "model_name": "ProgressStyleModel",
      "state": {
       "_model_module": "@jupyter-widgets/controls",
       "_model_module_version": "1.5.0",
       "_model_name": "ProgressStyleModel",
       "_view_count": null,
       "_view_module": "@jupyter-widgets/base",
       "_view_module_version": "1.2.0",
       "_view_name": "StyleView",
       "bar_color": null,
       "description_width": ""
      }
     },
     "6ed871efff994f37bdf4c7d2ff195f53": {
      "model_module": "@jupyter-widgets/base",
      "model_module_version": "1.2.0",
      "model_name": "LayoutModel",
      "state": {
       "_model_module": "@jupyter-widgets/base",
       "_model_module_version": "1.2.0",
       "_model_name": "LayoutModel",
       "_view_count": null,
       "_view_module": "@jupyter-widgets/base",
       "_view_module_version": "1.2.0",
       "_view_name": "LayoutView",
       "align_content": null,
       "align_items": null,
       "align_self": null,
       "border": null,
       "bottom": null,
       "display": null,
       "flex": null,
       "flex_flow": null,
       "grid_area": null,
       "grid_auto_columns": null,
       "grid_auto_flow": null,
       "grid_auto_rows": null,
       "grid_column": null,
       "grid_gap": null,
       "grid_row": null,
       "grid_template_areas": null,
       "grid_template_columns": null,
       "grid_template_rows": null,
       "height": null,
       "justify_content": null,
       "justify_items": null,
       "left": null,
       "margin": null,
       "max_height": null,
       "max_width": null,
       "min_height": null,
       "min_width": null,
       "object_fit": null,
       "object_position": null,
       "order": null,
       "overflow": null,
       "overflow_x": null,
       "overflow_y": null,
       "padding": null,
       "right": null,
       "top": null,
       "visibility": null,
       "width": null
      }
     },
     "70b5fcc9cefb4cdd97120dc87726f576": {
      "model_module": "@jupyter-widgets/controls",
      "model_module_version": "1.5.0",
      "model_name": "FloatProgressModel",
      "state": {
       "_dom_classes": [],
       "_model_module": "@jupyter-widgets/controls",
       "_model_module_version": "1.5.0",
       "_model_name": "FloatProgressModel",
       "_view_count": null,
       "_view_module": "@jupyter-widgets/controls",
       "_view_module_version": "1.5.0",
       "_view_name": "ProgressView",
       "bar_style": "success",
       "description": "",
       "description_tooltip": null,
       "layout": "IPY_MODEL_286be51f2ed24baca11b09a680781725",
       "max": 231508.0,
       "min": 0.0,
       "orientation": "horizontal",
       "style": "IPY_MODEL_e7fcc09190004b228d977628352d2427",
       "value": 231508.0
      }
     },
     "71c7f0aa56db4ef3a98f1e68bc43442b": {
      "model_module": "@jupyter-widgets/controls",
      "model_module_version": "1.5.0",
      "model_name": "FloatProgressModel",
      "state": {
       "_dom_classes": [],
       "_model_module": "@jupyter-widgets/controls",
       "_model_module_version": "1.5.0",
       "_model_name": "FloatProgressModel",
       "_view_count": null,
       "_view_module": "@jupyter-widgets/controls",
       "_view_module_version": "1.5.0",
       "_view_name": "ProgressView",
       "bar_style": "success",
       "description": "",
       "description_tooltip": null,
       "layout": "IPY_MODEL_6ed871efff994f37bdf4c7d2ff195f53",
       "max": 112.0,
       "min": 0.0,
       "orientation": "horizontal",
       "style": "IPY_MODEL_5d873a89b29b41abb4da4b2808bf9c5c",
       "value": 112.0
      }
     },
     "775451dce0054a889d72ec38d60a9ab8": {
      "model_module": "@jupyter-widgets/controls",
      "model_module_version": "1.5.0",
      "model_name": "HBoxModel",
      "state": {
       "_dom_classes": [],
       "_model_module": "@jupyter-widgets/controls",
       "_model_module_version": "1.5.0",
       "_model_name": "HBoxModel",
       "_view_count": null,
       "_view_module": "@jupyter-widgets/controls",
       "_view_module_version": "1.5.0",
       "_view_name": "HBoxView",
       "box_style": "",
       "children": [
        "IPY_MODEL_ad05c108c37040a2988b2148562a6b4d",
        "IPY_MODEL_71c7f0aa56db4ef3a98f1e68bc43442b",
        "IPY_MODEL_fbdf88ef170440159ba35fc7e5233397"
       ],
       "layout": "IPY_MODEL_59a960b412684e63a82e1758e111e5e9"
      }
     },
     "792de7a04afa459198e6f7eaa5167bd9": {
      "model_module": "@jupyter-widgets/controls",
      "model_module_version": "1.5.0",
      "model_name": "DescriptionStyleModel",
      "state": {
       "_model_module": "@jupyter-widgets/controls",
       "_model_module_version": "1.5.0",
       "_model_name": "DescriptionStyleModel",
       "_view_count": null,
       "_view_module": "@jupyter-widgets/base",
       "_view_module_version": "1.2.0",
       "_view_name": "StyleView",
       "description_width": ""
      }
     },
     "7f6bc5696631483a87469fcafca1ed01": {
      "model_module": "@jupyter-widgets/controls",
      "model_module_version": "1.5.0",
      "model_name": "ProgressStyleModel",
      "state": {
       "_model_module": "@jupyter-widgets/controls",
       "_model_module_version": "1.5.0",
       "_model_name": "ProgressStyleModel",
       "_view_count": null,
       "_view_module": "@jupyter-widgets/base",
       "_view_module_version": "1.2.0",
       "_view_name": "StyleView",
       "bar_color": null,
       "description_width": ""
      }
     },
     "815e7e0b60d94754896c35181ea2b1c6": {
      "model_module": "@jupyter-widgets/controls",
      "model_module_version": "1.5.0",
      "model_name": "HTMLModel",
      "state": {
       "_dom_classes": [],
       "_model_module": "@jupyter-widgets/controls",
       "_model_module_version": "1.5.0",
       "_model_name": "HTMLModel",
       "_view_count": null,
       "_view_module": "@jupyter-widgets/controls",
       "_view_module_version": "1.5.0",
       "_view_name": "HTMLView",
       "description": "",
       "description_tooltip": null,
       "layout": "IPY_MODEL_ec025c3f6fa349da9132af7d5635f446",
       "placeholder": "​",
       "style": "IPY_MODEL_1e41dd8245074c19add884cbb0bf8f05",
       "value": " 1.24k/1.24k [00:00&lt;00:00, 109kB/s]"
      }
     },
     "82ee880f6ce543969b6cbdfbe38fecca": {
      "model_module": "@jupyter-widgets/controls",
      "model_module_version": "1.5.0",
      "model_name": "DescriptionStyleModel",
      "state": {
       "_model_module": "@jupyter-widgets/controls",
       "_model_module_version": "1.5.0",
       "_model_name": "DescriptionStyleModel",
       "_view_count": null,
       "_view_module": "@jupyter-widgets/base",
       "_view_module_version": "1.2.0",
       "_view_name": "StyleView",
       "description_width": ""
      }
     },
     "84c7fbbf24904a1bbdfec99782de3134": {
      "model_module": "@jupyter-widgets/base",
      "model_module_version": "1.2.0",
      "model_name": "LayoutModel",
      "state": {
       "_model_module": "@jupyter-widgets/base",
       "_model_module_version": "1.2.0",
       "_model_name": "LayoutModel",
       "_view_count": null,
       "_view_module": "@jupyter-widgets/base",
       "_view_module_version": "1.2.0",
       "_view_name": "LayoutView",
       "align_content": null,
       "align_items": null,
       "align_self": null,
       "border": null,
       "bottom": null,
       "display": null,
       "flex": null,
       "flex_flow": null,
       "grid_area": null,
       "grid_auto_columns": null,
       "grid_auto_flow": null,
       "grid_auto_rows": null,
       "grid_column": null,
       "grid_gap": null,
       "grid_row": null,
       "grid_template_areas": null,
       "grid_template_columns": null,
       "grid_template_rows": null,
       "height": null,
       "justify_content": null,
       "justify_items": null,
       "left": null,
       "margin": null,
       "max_height": null,
       "max_width": null,
       "min_height": null,
       "min_width": null,
       "object_fit": null,
       "object_position": null,
       "order": null,
       "overflow": null,
       "overflow_x": null,
       "overflow_y": null,
       "padding": null,
       "right": null,
       "top": null,
       "visibility": null,
       "width": null
      }
     },
     "8543299aabb94e8fb595366ae76af2f4": {
      "model_module": "@jupyter-widgets/base",
      "model_module_version": "1.2.0",
      "model_name": "LayoutModel",
      "state": {
       "_model_module": "@jupyter-widgets/base",
       "_model_module_version": "1.2.0",
       "_model_name": "LayoutModel",
       "_view_count": null,
       "_view_module": "@jupyter-widgets/base",
       "_view_module_version": "1.2.0",
       "_view_name": "LayoutView",
       "align_content": null,
       "align_items": null,
       "align_self": null,
       "border": null,
       "bottom": null,
       "display": null,
       "flex": null,
       "flex_flow": null,
       "grid_area": null,
       "grid_auto_columns": null,
       "grid_auto_flow": null,
       "grid_auto_rows": null,
       "grid_column": null,
       "grid_gap": null,
       "grid_row": null,
       "grid_template_areas": null,
       "grid_template_columns": null,
       "grid_template_rows": null,
       "height": null,
       "justify_content": null,
       "justify_items": null,
       "left": null,
       "margin": null,
       "max_height": null,
       "max_width": null,
       "min_height": null,
       "min_width": null,
       "object_fit": null,
       "object_position": null,
       "order": null,
       "overflow": null,
       "overflow_x": null,
       "overflow_y": null,
       "padding": null,
       "right": null,
       "top": null,
       "visibility": null,
       "width": null
      }
     },
     "86071233dfe3425282177a25b4339a4e": {
      "model_module": "@jupyter-widgets/base",
      "model_module_version": "1.2.0",
      "model_name": "LayoutModel",
      "state": {
       "_model_module": "@jupyter-widgets/base",
       "_model_module_version": "1.2.0",
       "_model_name": "LayoutModel",
       "_view_count": null,
       "_view_module": "@jupyter-widgets/base",
       "_view_module_version": "1.2.0",
       "_view_name": "LayoutView",
       "align_content": null,
       "align_items": null,
       "align_self": null,
       "border": null,
       "bottom": null,
       "display": null,
       "flex": null,
       "flex_flow": null,
       "grid_area": null,
       "grid_auto_columns": null,
       "grid_auto_flow": null,
       "grid_auto_rows": null,
       "grid_column": null,
       "grid_gap": null,
       "grid_row": null,
       "grid_template_areas": null,
       "grid_template_columns": null,
       "grid_template_rows": null,
       "height": null,
       "justify_content": null,
       "justify_items": null,
       "left": null,
       "margin": null,
       "max_height": null,
       "max_width": null,
       "min_height": null,
       "min_width": null,
       "object_fit": null,
       "object_position": null,
       "order": null,
       "overflow": null,
       "overflow_x": null,
       "overflow_y": null,
       "padding": null,
       "right": null,
       "top": null,
       "visibility": null,
       "width": null
      }
     },
     "88f0d5203f6e458382eb8fb6f2e9b947": {
      "model_module": "@jupyter-widgets/controls",
      "model_module_version": "1.5.0",
      "model_name": "HBoxModel",
      "state": {
       "_dom_classes": [],
       "_model_module": "@jupyter-widgets/controls",
       "_model_module_version": "1.5.0",
       "_model_name": "HBoxModel",
       "_view_count": null,
       "_view_module": "@jupyter-widgets/controls",
       "_view_module_version": "1.5.0",
       "_view_name": "HBoxView",
       "box_style": "",
       "children": [
        "IPY_MODEL_8f19868f309b4f999c7deca757f1161e",
        "IPY_MODEL_40629c72c19b4bb1b987e590e8b881bb",
        "IPY_MODEL_1e058642466c4f1eb48e94f26d60401b"
       ],
       "layout": "IPY_MODEL_bd091812048a4dd3aa10c9f3c01c6984"
      }
     },
     "8989e16b8aae4ad1a16f5ccd52412093": {
      "model_module": "@jupyter-widgets/base",
      "model_module_version": "1.2.0",
      "model_name": "LayoutModel",
      "state": {
       "_model_module": "@jupyter-widgets/base",
       "_model_module_version": "1.2.0",
       "_model_name": "LayoutModel",
       "_view_count": null,
       "_view_module": "@jupyter-widgets/base",
       "_view_module_version": "1.2.0",
       "_view_name": "LayoutView",
       "align_content": null,
       "align_items": null,
       "align_self": null,
       "border": null,
       "bottom": null,
       "display": null,
       "flex": null,
       "flex_flow": null,
       "grid_area": null,
       "grid_auto_columns": null,
       "grid_auto_flow": null,
       "grid_auto_rows": null,
       "grid_column": null,
       "grid_gap": null,
       "grid_row": null,
       "grid_template_areas": null,
       "grid_template_columns": null,
       "grid_template_rows": null,
       "height": null,
       "justify_content": null,
       "justify_items": null,
       "left": null,
       "margin": null,
       "max_height": null,
       "max_width": null,
       "min_height": null,
       "min_width": null,
       "object_fit": null,
       "object_position": null,
       "order": null,
       "overflow": null,
       "overflow_x": null,
       "overflow_y": null,
       "padding": null,
       "right": null,
       "top": null,
       "visibility": null,
       "width": null
      }
     },
     "89f8acad4be3449882d09a9efdf4654c": {
      "model_module": "@jupyter-widgets/controls",
      "model_module_version": "1.5.0",
      "model_name": "DescriptionStyleModel",
      "state": {
       "_model_module": "@jupyter-widgets/controls",
       "_model_module_version": "1.5.0",
       "_model_name": "DescriptionStyleModel",
       "_view_count": null,
       "_view_module": "@jupyter-widgets/base",
       "_view_module_version": "1.2.0",
       "_view_name": "StyleView",
       "description_width": ""
      }
     },
     "89fbb37180f344cab26b5df9b903d4c2": {
      "model_module": "@jupyter-widgets/base",
      "model_module_version": "1.2.0",
      "model_name": "LayoutModel",
      "state": {
       "_model_module": "@jupyter-widgets/base",
       "_model_module_version": "1.2.0",
       "_model_name": "LayoutModel",
       "_view_count": null,
       "_view_module": "@jupyter-widgets/base",
       "_view_module_version": "1.2.0",
       "_view_name": "LayoutView",
       "align_content": null,
       "align_items": null,
       "align_self": null,
       "border": null,
       "bottom": null,
       "display": null,
       "flex": null,
       "flex_flow": null,
       "grid_area": null,
       "grid_auto_columns": null,
       "grid_auto_flow": null,
       "grid_auto_rows": null,
       "grid_column": null,
       "grid_gap": null,
       "grid_row": null,
       "grid_template_areas": null,
       "grid_template_columns": null,
       "grid_template_rows": null,
       "height": null,
       "justify_content": null,
       "justify_items": null,
       "left": null,
       "margin": null,
       "max_height": null,
       "max_width": null,
       "min_height": null,
       "min_width": null,
       "object_fit": null,
       "object_position": null,
       "order": null,
       "overflow": null,
       "overflow_x": null,
       "overflow_y": null,
       "padding": null,
       "right": null,
       "top": null,
       "visibility": null,
       "width": null
      }
     },
     "8e64f69218304cc483493b877a4efd35": {
      "model_module": "@jupyter-widgets/controls",
      "model_module_version": "1.5.0",
      "model_name": "DescriptionStyleModel",
      "state": {
       "_model_module": "@jupyter-widgets/controls",
       "_model_module_version": "1.5.0",
       "_model_name": "DescriptionStyleModel",
       "_view_count": null,
       "_view_module": "@jupyter-widgets/base",
       "_view_module_version": "1.2.0",
       "_view_name": "StyleView",
       "description_width": ""
      }
     },
     "8f19868f309b4f999c7deca757f1161e": {
      "model_module": "@jupyter-widgets/controls",
      "model_module_version": "1.5.0",
      "model_name": "HTMLModel",
      "state": {
       "_dom_classes": [],
       "_model_module": "@jupyter-widgets/controls",
       "_model_module_version": "1.5.0",
       "_model_name": "HTMLModel",
       "_view_count": null,
       "_view_module": "@jupyter-widgets/controls",
       "_view_module_version": "1.5.0",
       "_view_name": "HTMLView",
       "description": "",
       "description_tooltip": null,
       "layout": "IPY_MODEL_508a3c6d0da54e41b3468e4c41f6448f",
       "placeholder": "​",
       "style": "IPY_MODEL_b95bb6324c3b4f30a1fc77c088683620",
       "value": "model.safetensors: 100%"
      }
     },
     "8f459f5bbb0c4648803e1843ba3de190": {
      "model_module": "@jupyter-widgets/base",
      "model_module_version": "1.2.0",
      "model_name": "LayoutModel",
      "state": {
       "_model_module": "@jupyter-widgets/base",
       "_model_module_version": "1.2.0",
       "_model_name": "LayoutModel",
       "_view_count": null,
       "_view_module": "@jupyter-widgets/base",
       "_view_module_version": "1.2.0",
       "_view_name": "LayoutView",
       "align_content": null,
       "align_items": null,
       "align_self": null,
       "border": null,
       "bottom": null,
       "display": null,
       "flex": null,
       "flex_flow": null,
       "grid_area": null,
       "grid_auto_columns": null,
       "grid_auto_flow": null,
       "grid_auto_rows": null,
       "grid_column": null,
       "grid_gap": null,
       "grid_row": null,
       "grid_template_areas": null,
       "grid_template_columns": null,
       "grid_template_rows": null,
       "height": null,
       "justify_content": null,
       "justify_items": null,
       "left": null,
       "margin": null,
       "max_height": null,
       "max_width": null,
       "min_height": null,
       "min_width": null,
       "object_fit": null,
       "object_position": null,
       "order": null,
       "overflow": null,
       "overflow_x": null,
       "overflow_y": null,
       "padding": null,
       "right": null,
       "top": null,
       "visibility": null,
       "width": null
      }
     },
     "90f3c4371f944967973d1639a5466f60": {
      "model_module": "@jupyter-widgets/controls",
      "model_module_version": "1.5.0",
      "model_name": "HTMLModel",
      "state": {
       "_dom_classes": [],
       "_model_module": "@jupyter-widgets/controls",
       "_model_module_version": "1.5.0",
       "_model_name": "HTMLModel",
       "_view_count": null,
       "_view_module": "@jupyter-widgets/controls",
       "_view_module_version": "1.5.0",
       "_view_name": "HTMLView",
       "description": "",
       "description_tooltip": null,
       "layout": "IPY_MODEL_86071233dfe3425282177a25b4339a4e",
       "placeholder": "​",
       "style": "IPY_MODEL_ad2d9fd0cacc411e9a57fc615bb0caad",
       "value": "vocab.txt: 100%"
      }
     },
     "9646dcb44c88471d81010f9679e1bc43": {
      "model_module": "@jupyter-widgets/controls",
      "model_module_version": "1.5.0",
      "model_name": "HBoxModel",
      "state": {
       "_dom_classes": [],
       "_model_module": "@jupyter-widgets/controls",
       "_model_module_version": "1.5.0",
       "_model_name": "HBoxModel",
       "_view_count": null,
       "_view_module": "@jupyter-widgets/controls",
       "_view_module_version": "1.5.0",
       "_view_name": "HBoxView",
       "box_style": "",
       "children": [
        "IPY_MODEL_2b8e99765f89464a96d624e1826e21fa",
        "IPY_MODEL_4cde89e974424a2fa8e1de6ea1479739",
        "IPY_MODEL_815e7e0b60d94754896c35181ea2b1c6"
       ],
       "layout": "IPY_MODEL_8989e16b8aae4ad1a16f5ccd52412093"
      }
     },
     "9e6abff44f4149afad592d7ea409647e": {
      "model_module": "@jupyter-widgets/controls",
      "model_module_version": "1.5.0",
      "model_name": "HBoxModel",
      "state": {
       "_dom_classes": [],
       "_model_module": "@jupyter-widgets/controls",
       "_model_module_version": "1.5.0",
       "_model_name": "HBoxModel",
       "_view_count": null,
       "_view_module": "@jupyter-widgets/controls",
       "_view_module_version": "1.5.0",
       "_view_name": "HBoxView",
       "box_style": "",
       "children": [
        "IPY_MODEL_ec94190b6e33449aa983604dac0f4c7d",
        "IPY_MODEL_ee89e3e53e784386a4545f269c7c63c9",
        "IPY_MODEL_e1b70518d1b64cd2b2a5a686eba9708e"
       ],
       "layout": "IPY_MODEL_8f459f5bbb0c4648803e1843ba3de190"
      }
     },
     "a25f7de355044ceb82557c3982ec8696": {
      "model_module": "@jupyter-widgets/base",
      "model_module_version": "1.2.0",
      "model_name": "LayoutModel",
      "state": {
       "_model_module": "@jupyter-widgets/base",
       "_model_module_version": "1.2.0",
       "_model_name": "LayoutModel",
       "_view_count": null,
       "_view_module": "@jupyter-widgets/base",
       "_view_module_version": "1.2.0",
       "_view_name": "LayoutView",
       "align_content": null,
       "align_items": null,
       "align_self": null,
       "border": null,
       "bottom": null,
       "display": null,
       "flex": null,
       "flex_flow": null,
       "grid_area": null,
       "grid_auto_columns": null,
       "grid_auto_flow": null,
       "grid_auto_rows": null,
       "grid_column": null,
       "grid_gap": null,
       "grid_row": null,
       "grid_template_areas": null,
       "grid_template_columns": null,
       "grid_template_rows": null,
       "height": null,
       "justify_content": null,
       "justify_items": null,
       "left": null,
       "margin": null,
       "max_height": null,
       "max_width": null,
       "min_height": null,
       "min_width": null,
       "object_fit": null,
       "object_position": null,
       "order": null,
       "overflow": null,
       "overflow_x": null,
       "overflow_y": null,
       "padding": null,
       "right": null,
       "top": null,
       "visibility": null,
       "width": null
      }
     },
     "a5d6b0324ed347bd96d9324a46af725a": {
      "model_module": "@jupyter-widgets/controls",
      "model_module_version": "1.5.0",
      "model_name": "HTMLModel",
      "state": {
       "_dom_classes": [],
       "_model_module": "@jupyter-widgets/controls",
       "_model_module_version": "1.5.0",
       "_model_name": "HTMLModel",
       "_view_count": null,
       "_view_module": "@jupyter-widgets/controls",
       "_view_module_version": "1.5.0",
       "_view_name": "HTMLView",
       "description": "",
       "description_tooltip": null,
       "layout": "IPY_MODEL_346be1e0461d45e78070f90e6cb035ae",
       "placeholder": "​",
       "style": "IPY_MODEL_dcc19035a0444237ac28b0c33fc2e809",
       "value": " 232k/232k [00:00&lt;00:00, 13.8MB/s]"
      }
     },
     "a8546747590f40d89b1e3f6ac1b3d538": {
      "model_module": "@jupyter-widgets/controls",
      "model_module_version": "1.5.0",
      "model_name": "HBoxModel",
      "state": {
       "_dom_classes": [],
       "_model_module": "@jupyter-widgets/controls",
       "_model_module_version": "1.5.0",
       "_model_name": "HBoxModel",
       "_view_count": null,
       "_view_module": "@jupyter-widgets/controls",
       "_view_module_version": "1.5.0",
       "_view_name": "HBoxView",
       "box_style": "",
       "children": [
        "IPY_MODEL_90f3c4371f944967973d1639a5466f60",
        "IPY_MODEL_70b5fcc9cefb4cdd97120dc87726f576",
        "IPY_MODEL_a5d6b0324ed347bd96d9324a46af725a"
       ],
       "layout": "IPY_MODEL_58267ffb3f204016bc33a85b2c2ad1d2"
      }
     },
     "ad05c108c37040a2988b2148562a6b4d": {
      "model_module": "@jupyter-widgets/controls",
      "model_module_version": "1.5.0",
      "model_name": "HTMLModel",
      "state": {
       "_dom_classes": [],
       "_model_module": "@jupyter-widgets/controls",
       "_model_module_version": "1.5.0",
       "_model_name": "HTMLModel",
       "_view_count": null,
       "_view_module": "@jupyter-widgets/controls",
       "_view_module_version": "1.5.0",
       "_view_name": "HTMLView",
       "description": "",
       "description_tooltip": null,
       "layout": "IPY_MODEL_a25f7de355044ceb82557c3982ec8696",
       "placeholder": "​",
       "style": "IPY_MODEL_8e64f69218304cc483493b877a4efd35",
       "value": "special_tokens_map.json: 100%"
      }
     },
     "ad2d9fd0cacc411e9a57fc615bb0caad": {
      "model_module": "@jupyter-widgets/controls",
      "model_module_version": "1.5.0",
      "model_name": "DescriptionStyleModel",
      "state": {
       "_model_module": "@jupyter-widgets/controls",
       "_model_module_version": "1.5.0",
       "_model_name": "DescriptionStyleModel",
       "_view_count": null,
       "_view_module": "@jupyter-widgets/base",
       "_view_module_version": "1.2.0",
       "_view_name": "StyleView",
       "description_width": ""
      }
     },
     "b95bb6324c3b4f30a1fc77c088683620": {
      "model_module": "@jupyter-widgets/controls",
      "model_module_version": "1.5.0",
      "model_name": "DescriptionStyleModel",
      "state": {
       "_model_module": "@jupyter-widgets/controls",
       "_model_module_version": "1.5.0",
       "_model_name": "DescriptionStyleModel",
       "_view_count": null,
       "_view_module": "@jupyter-widgets/base",
       "_view_module_version": "1.2.0",
       "_view_name": "StyleView",
       "description_width": ""
      }
     },
     "bcb9d789d3a0420e9d1454eaa63e9059": {
      "model_module": "@jupyter-widgets/controls",
      "model_module_version": "1.5.0",
      "model_name": "ProgressStyleModel",
      "state": {
       "_model_module": "@jupyter-widgets/controls",
       "_model_module_version": "1.5.0",
       "_model_name": "ProgressStyleModel",
       "_view_count": null,
       "_view_module": "@jupyter-widgets/base",
       "_view_module_version": "1.2.0",
       "_view_name": "StyleView",
       "bar_color": null,
       "description_width": ""
      }
     },
     "bd091812048a4dd3aa10c9f3c01c6984": {
      "model_module": "@jupyter-widgets/base",
      "model_module_version": "1.2.0",
      "model_name": "LayoutModel",
      "state": {
       "_model_module": "@jupyter-widgets/base",
       "_model_module_version": "1.2.0",
       "_model_name": "LayoutModel",
       "_view_count": null,
       "_view_module": "@jupyter-widgets/base",
       "_view_module_version": "1.2.0",
       "_view_name": "LayoutView",
       "align_content": null,
       "align_items": null,
       "align_self": null,
       "border": null,
       "bottom": null,
       "display": null,
       "flex": null,
       "flex_flow": null,
       "grid_area": null,
       "grid_auto_columns": null,
       "grid_auto_flow": null,
       "grid_auto_rows": null,
       "grid_column": null,
       "grid_gap": null,
       "grid_row": null,
       "grid_template_areas": null,
       "grid_template_columns": null,
       "grid_template_rows": null,
       "height": null,
       "justify_content": null,
       "justify_items": null,
       "left": null,
       "margin": null,
       "max_height": null,
       "max_width": null,
       "min_height": null,
       "min_width": null,
       "object_fit": null,
       "object_position": null,
       "order": null,
       "overflow": null,
       "overflow_x": null,
       "overflow_y": null,
       "padding": null,
       "right": null,
       "top": null,
       "visibility": null,
       "width": null
      }
     },
     "c0fc1f5a75c64ea7aa250fa075ec2f4f": {
      "model_module": "@jupyter-widgets/base",
      "model_module_version": "1.2.0",
      "model_name": "LayoutModel",
      "state": {
       "_model_module": "@jupyter-widgets/base",
       "_model_module_version": "1.2.0",
       "_model_name": "LayoutModel",
       "_view_count": null,
       "_view_module": "@jupyter-widgets/base",
       "_view_module_version": "1.2.0",
       "_view_name": "LayoutView",
       "align_content": null,
       "align_items": null,
       "align_self": null,
       "border": null,
       "bottom": null,
       "display": null,
       "flex": null,
       "flex_flow": null,
       "grid_area": null,
       "grid_auto_columns": null,
       "grid_auto_flow": null,
       "grid_auto_rows": null,
       "grid_column": null,
       "grid_gap": null,
       "grid_row": null,
       "grid_template_areas": null,
       "grid_template_columns": null,
       "grid_template_rows": null,
       "height": null,
       "justify_content": null,
       "justify_items": null,
       "left": null,
       "margin": null,
       "max_height": null,
       "max_width": null,
       "min_height": null,
       "min_width": null,
       "object_fit": null,
       "object_position": null,
       "order": null,
       "overflow": null,
       "overflow_x": null,
       "overflow_y": null,
       "padding": null,
       "right": null,
       "top": null,
       "visibility": null,
       "width": null
      }
     },
     "cfd8077d9af3417993b8b348567c8c2d": {
      "model_module": "@jupyter-widgets/controls",
      "model_module_version": "1.5.0",
      "model_name": "DescriptionStyleModel",
      "state": {
       "_model_module": "@jupyter-widgets/controls",
       "_model_module_version": "1.5.0",
       "_model_name": "DescriptionStyleModel",
       "_view_count": null,
       "_view_module": "@jupyter-widgets/base",
       "_view_module_version": "1.2.0",
       "_view_name": "StyleView",
       "description_width": ""
      }
     },
     "dcc19035a0444237ac28b0c33fc2e809": {
      "model_module": "@jupyter-widgets/controls",
      "model_module_version": "1.5.0",
      "model_name": "DescriptionStyleModel",
      "state": {
       "_model_module": "@jupyter-widgets/controls",
       "_model_module_version": "1.5.0",
       "_model_name": "DescriptionStyleModel",
       "_view_count": null,
       "_view_module": "@jupyter-widgets/base",
       "_view_module_version": "1.2.0",
       "_view_name": "StyleView",
       "description_width": ""
      }
     },
     "e1b70518d1b64cd2b2a5a686eba9708e": {
      "model_module": "@jupyter-widgets/controls",
      "model_module_version": "1.5.0",
      "model_name": "HTMLModel",
      "state": {
       "_dom_classes": [],
       "_model_module": "@jupyter-widgets/controls",
       "_model_module_version": "1.5.0",
       "_model_name": "HTMLModel",
       "_view_count": null,
       "_view_module": "@jupyter-widgets/controls",
       "_view_module_version": "1.5.0",
       "_view_name": "HTMLView",
       "description": "",
       "description_tooltip": null,
       "layout": "IPY_MODEL_0d7da3999a49407a953fa486c6929d5e",
       "placeholder": "​",
       "style": "IPY_MODEL_432e7b1a0c414c0daab21a0ed8feaa0f",
       "value": " 151/151 [00:00&lt;00:00, 12.3kB/s]"
      }
     },
     "e7fcc09190004b228d977628352d2427": {
      "model_module": "@jupyter-widgets/controls",
      "model_module_version": "1.5.0",
      "model_name": "ProgressStyleModel",
      "state": {
       "_model_module": "@jupyter-widgets/controls",
       "_model_module_version": "1.5.0",
       "_model_name": "ProgressStyleModel",
       "_view_count": null,
       "_view_module": "@jupyter-widgets/base",
       "_view_module_version": "1.2.0",
       "_view_name": "StyleView",
       "bar_color": null,
       "description_width": ""
      }
     },
     "ec025c3f6fa349da9132af7d5635f446": {
      "model_module": "@jupyter-widgets/base",
      "model_module_version": "1.2.0",
      "model_name": "LayoutModel",
      "state": {
       "_model_module": "@jupyter-widgets/base",
       "_model_module_version": "1.2.0",
       "_model_name": "LayoutModel",
       "_view_count": null,
       "_view_module": "@jupyter-widgets/base",
       "_view_module_version": "1.2.0",
       "_view_name": "LayoutView",
       "align_content": null,
       "align_items": null,
       "align_self": null,
       "border": null,
       "bottom": null,
       "display": null,
       "flex": null,
       "flex_flow": null,
       "grid_area": null,
       "grid_auto_columns": null,
       "grid_auto_flow": null,
       "grid_auto_rows": null,
       "grid_column": null,
       "grid_gap": null,
       "grid_row": null,
       "grid_template_areas": null,
       "grid_template_columns": null,
       "grid_template_rows": null,
       "height": null,
       "justify_content": null,
       "justify_items": null,
       "left": null,
       "margin": null,
       "max_height": null,
       "max_width": null,
       "min_height": null,
       "min_width": null,
       "object_fit": null,
       "object_position": null,
       "order": null,
       "overflow": null,
       "overflow_x": null,
       "overflow_y": null,
       "padding": null,
       "right": null,
       "top": null,
       "visibility": null,
       "width": null
      }
     },
     "ec94190b6e33449aa983604dac0f4c7d": {
      "model_module": "@jupyter-widgets/controls",
      "model_module_version": "1.5.0",
      "model_name": "HTMLModel",
      "state": {
       "_dom_classes": [],
       "_model_module": "@jupyter-widgets/controls",
       "_model_module_version": "1.5.0",
       "_model_name": "HTMLModel",
       "_view_count": null,
       "_view_module": "@jupyter-widgets/controls",
       "_view_module_version": "1.5.0",
       "_view_name": "HTMLView",
       "description": "",
       "description_tooltip": null,
       "layout": "IPY_MODEL_89fbb37180f344cab26b5df9b903d4c2",
       "placeholder": "​",
       "style": "IPY_MODEL_792de7a04afa459198e6f7eaa5167bd9",
       "value": "tokenizer_config.json: 100%"
      }
     },
     "ee89e3e53e784386a4545f269c7c63c9": {
      "model_module": "@jupyter-widgets/controls",
      "model_module_version": "1.5.0",
      "model_name": "FloatProgressModel",
      "state": {
       "_dom_classes": [],
       "_model_module": "@jupyter-widgets/controls",
       "_model_module_version": "1.5.0",
       "_model_name": "FloatProgressModel",
       "_view_count": null,
       "_view_module": "@jupyter-widgets/controls",
       "_view_module_version": "1.5.0",
       "_view_name": "ProgressView",
       "bar_style": "success",
       "description": "",
       "description_tooltip": null,
       "layout": "IPY_MODEL_c0fc1f5a75c64ea7aa250fa075ec2f4f",
       "max": 151.0,
       "min": 0.0,
       "orientation": "horizontal",
       "style": "IPY_MODEL_7f6bc5696631483a87469fcafca1ed01",
       "value": 151.0
      }
     },
     "fbdf88ef170440159ba35fc7e5233397": {
      "model_module": "@jupyter-widgets/controls",
      "model_module_version": "1.5.0",
      "model_name": "HTMLModel",
      "state": {
       "_dom_classes": [],
       "_model_module": "@jupyter-widgets/controls",
       "_model_module_version": "1.5.0",
       "_model_name": "HTMLModel",
       "_view_count": null,
       "_view_module": "@jupyter-widgets/controls",
       "_view_module_version": "1.5.0",
       "_view_name": "HTMLView",
       "description": "",
       "description_tooltip": null,
       "layout": "IPY_MODEL_0091c1c7e03e46d3bd98a839ed332a64",
       "placeholder": "​",
       "style": "IPY_MODEL_82ee880f6ce543969b6cbdfbe38fecca",
       "value": " 112/112 [00:00&lt;00:00, 10.1kB/s]"
      }
     }
    },
    "version_major": 2,
    "version_minor": 0
   }
  }
 },
 "nbformat": 4,
 "nbformat_minor": 5
}
